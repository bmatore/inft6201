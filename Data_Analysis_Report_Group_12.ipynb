{
  "nbformat": 4,
  "nbformat_minor": 5,
  "metadata": {
    "kernelspec": {
      "display_name": "Python 3",
      "language": "python",
      "name": "python3"
    },
    "language_info": {
      "codemirror_mode": {
        "name": "ipython",
        "version": 3
      },
      "file_extension": ".py",
      "mimetype": "text/x-python",
      "name": "python",
      "nbconvert_exporter": "python",
      "pygments_lexer": "ipython3",
      "version": "3.8.8"
    },
    "colab": {
      "name": "Data Analysis Report Group 12.ipynb",
      "provenance": [],
      "collapsed_sections": [],
      "include_colab_link": true
    }
  },
  "cells": [
    {
      "cell_type": "markdown",
      "metadata": {
        "id": "view-in-github",
        "colab_type": "text"
      },
      "source": [
        "<a href=\"https://colab.research.google.com/github/bmatore/inft6201/blob/main/Data_Analysis_Report_Group_12.ipynb\" target=\"_parent\"><img src=\"https://colab.research.google.com/assets/colab-badge.svg\" alt=\"Open In Colab\"/></a>"
      ]
    },
    {
      "cell_type": "code",
      "metadata": {
        "id": "458d5b8a"
      },
      "source": [
        "import pandas as pd\n",
        "import numpy as np\n",
        "import matplotlib.pyplot as plt\n",
        "\n",
        "import seaborn as sns\n",
        "sns.set(rc={'figure.figsize':(11.7,8.27)})\n",
        "\n",
        "plt.rcParams.update({'font.size': 20}) # Increase fontsize"
      ],
      "id": "458d5b8a",
      "execution_count": 44,
      "outputs": []
    },
    {
      "cell_type": "code",
      "metadata": {
        "id": "rQamDmmEkBR8",
        "colab": {
          "base_uri": "https://localhost:8080/"
        },
        "outputId": "b1f82e35-3041-4e25-e8e3-125333df4039"
      },
      "source": [
        "from google.colab import drive\n",
        "drive.mount('/content/drive')"
      ],
      "id": "rQamDmmEkBR8",
      "execution_count": 2,
      "outputs": [
        {
          "output_type": "stream",
          "name": "stdout",
          "text": [
            "Mounted at /content/drive\n"
          ]
        }
      ]
    },
    {
      "cell_type": "code",
      "metadata": {
        "id": "a12a9b34"
      },
      "source": [
        "df_accidents = pd.read_csv(\"/content/drive/MyDrive/Colab Notebooks/ny_accidents.csv\", na_values='?')"
      ],
      "id": "a12a9b34",
      "execution_count": 3,
      "outputs": []
    },
    {
      "cell_type": "markdown",
      "metadata": {
        "id": "47r5LD4k6Kpl"
      },
      "source": [
        "# Data Analysis"
      ],
      "id": "47r5LD4k6Kpl"
    },
    {
      "cell_type": "code",
      "metadata": {
        "colab": {
          "base_uri": "https://localhost:8080/"
        },
        "id": "Gt5VDN0Km9ra",
        "outputId": "2f3c6e1b-2bb7-4427-ee47-922d71479f73"
      },
      "source": [
        "df2 = df_accidents.info()"
      ],
      "id": "Gt5VDN0Km9ra",
      "execution_count": 15,
      "outputs": [
        {
          "output_type": "stream",
          "name": "stdout",
          "text": [
            "<class 'pandas.core.frame.DataFrame'>\n",
            "RangeIndex: 39537 entries, 0 to 39536\n",
            "Data columns (total 50 columns):\n",
            " #   Column                 Non-Null Count  Dtype  \n",
            "---  ------                 --------------  -----  \n",
            " 0   Unnamed: 0             39537 non-null  int64  \n",
            " 1   ID                     39537 non-null  object \n",
            " 2   Severity               39537 non-null  int64  \n",
            " 3   Start_Time             39537 non-null  object \n",
            " 4   End_Time               39537 non-null  object \n",
            " 5   Start_Lat              39537 non-null  float64\n",
            " 6   Start_Lng              39537 non-null  float64\n",
            " 7   End_Lat                39537 non-null  float64\n",
            " 8   End_Lng                39537 non-null  float64\n",
            " 9   Distance.mi.           39537 non-null  float64\n",
            " 10  Description            39537 non-null  object \n",
            " 11  Number                 11845 non-null  float64\n",
            " 12  Street                 39537 non-null  object \n",
            " 13  Side                   39537 non-null  object \n",
            " 14  City                   39529 non-null  object \n",
            " 15  County                 39537 non-null  object \n",
            " 16  State                  39537 non-null  object \n",
            " 17  Zipcode                39537 non-null  object \n",
            " 18  Country                39537 non-null  object \n",
            " 19  Timezone               39537 non-null  object \n",
            " 20  Airport_Code           39471 non-null  object \n",
            " 21  Weather_Timestamp      39225 non-null  object \n",
            " 22  Temperature.F.         39147 non-null  float64\n",
            " 23  Wind_Chill.F.          38074 non-null  float64\n",
            " 24  Humidity...            39137 non-null  float64\n",
            " 25  Pressure.in.           39162 non-null  float64\n",
            " 26  Visibility.mi.         39131 non-null  float64\n",
            " 27  Wind_Direction         38598 non-null  object \n",
            " 28  Wind_Speed.mph.        38349 non-null  float64\n",
            " 29  Precipitation.in.      37594 non-null  float64\n",
            " 30  Weather_Condition      39194 non-null  object \n",
            " 31  Amenity                39537 non-null  bool   \n",
            " 32  Bump                   39537 non-null  bool   \n",
            " 33  Crossing               39537 non-null  bool   \n",
            " 34  Give_Way               39537 non-null  bool   \n",
            " 35  Junction               39537 non-null  bool   \n",
            " 36  No_Exit                39537 non-null  bool   \n",
            " 37  Railway                39537 non-null  bool   \n",
            " 38  Roundabout             39537 non-null  bool   \n",
            " 39  Station                39537 non-null  bool   \n",
            " 40  Stop                   39537 non-null  bool   \n",
            " 41  Traffic_Calming        39537 non-null  bool   \n",
            " 42  Traffic_Signal         39537 non-null  bool   \n",
            " 43  Turning_Loop           39537 non-null  bool   \n",
            " 44  Sunrise_Sunset         39529 non-null  object \n",
            " 45  Civil_Twilight         39529 non-null  object \n",
            " 46  Nautical_Twilight      39529 non-null  object \n",
            " 47  Astronomical_Twilight  39529 non-null  object \n",
            " 48  Start_Date             39537 non-null  object \n",
            " 49  End_Date               39537 non-null  object \n",
            "dtypes: bool(13), float64(13), int64(2), object(22)\n",
            "memory usage: 11.7+ MB\n"
          ]
        }
      ]
    },
    {
      "cell_type": "code",
      "metadata": {
        "colab": {
          "base_uri": "https://localhost:8080/",
          "height": 317
        },
        "id": "FWBkrFLMnJCI",
        "outputId": "5ba27daf-7074-439a-b91f-adf882a36fea"
      },
      "source": [
        "df_accidents.describe()"
      ],
      "id": "FWBkrFLMnJCI",
      "execution_count": 5,
      "outputs": [
        {
          "output_type": "execute_result",
          "data": {
            "text/html": [
              "<div>\n",
              "<style scoped>\n",
              "    .dataframe tbody tr th:only-of-type {\n",
              "        vertical-align: middle;\n",
              "    }\n",
              "\n",
              "    .dataframe tbody tr th {\n",
              "        vertical-align: top;\n",
              "    }\n",
              "\n",
              "    .dataframe thead th {\n",
              "        text-align: right;\n",
              "    }\n",
              "</style>\n",
              "<table border=\"1\" class=\"dataframe\">\n",
              "  <thead>\n",
              "    <tr style=\"text-align: right;\">\n",
              "      <th></th>\n",
              "      <th>Unnamed: 0</th>\n",
              "      <th>Severity</th>\n",
              "      <th>Start_Lat</th>\n",
              "      <th>Start_Lng</th>\n",
              "      <th>End_Lat</th>\n",
              "      <th>End_Lng</th>\n",
              "      <th>Distance.mi.</th>\n",
              "      <th>Number</th>\n",
              "      <th>Temperature.F.</th>\n",
              "      <th>Wind_Chill.F.</th>\n",
              "      <th>Humidity...</th>\n",
              "      <th>Pressure.in.</th>\n",
              "      <th>Visibility.mi.</th>\n",
              "      <th>Wind_Speed.mph.</th>\n",
              "      <th>Precipitation.in.</th>\n",
              "    </tr>\n",
              "  </thead>\n",
              "  <tbody>\n",
              "    <tr>\n",
              "      <th>count</th>\n",
              "      <td>3.953700e+04</td>\n",
              "      <td>39537.000000</td>\n",
              "      <td>39537.000000</td>\n",
              "      <td>39537.000000</td>\n",
              "      <td>39537.000000</td>\n",
              "      <td>39537.000000</td>\n",
              "      <td>39537.000000</td>\n",
              "      <td>11845.000000</td>\n",
              "      <td>39147.000000</td>\n",
              "      <td>38074.000000</td>\n",
              "      <td>39137.000000</td>\n",
              "      <td>39162.000000</td>\n",
              "      <td>39131.000000</td>\n",
              "      <td>38349.000000</td>\n",
              "      <td>37594.000000</td>\n",
              "    </tr>\n",
              "    <tr>\n",
              "      <th>mean</th>\n",
              "      <td>7.543609e+05</td>\n",
              "      <td>2.282900</td>\n",
              "      <td>41.714567</td>\n",
              "      <td>-74.806364</td>\n",
              "      <td>41.715110</td>\n",
              "      <td>-74.806824</td>\n",
              "      <td>0.654307</td>\n",
              "      <td>2133.770030</td>\n",
              "      <td>51.915442</td>\n",
              "      <td>49.177806</td>\n",
              "      <td>65.716253</td>\n",
              "      <td>29.713701</td>\n",
              "      <td>9.040011</td>\n",
              "      <td>9.132535</td>\n",
              "      <td>0.005389</td>\n",
              "    </tr>\n",
              "    <tr>\n",
              "      <th>std</th>\n",
              "      <td>3.307301e+05</td>\n",
              "      <td>0.642619</td>\n",
              "      <td>1.065492</td>\n",
              "      <td>1.685198</td>\n",
              "      <td>1.065188</td>\n",
              "      <td>1.685823</td>\n",
              "      <td>1.551176</td>\n",
              "      <td>3428.535678</td>\n",
              "      <td>16.787521</td>\n",
              "      <td>19.667776</td>\n",
              "      <td>20.599997</td>\n",
              "      <td>0.399174</td>\n",
              "      <td>2.668705</td>\n",
              "      <td>5.870588</td>\n",
              "      <td>0.027952</td>\n",
              "    </tr>\n",
              "    <tr>\n",
              "      <th>min</th>\n",
              "      <td>2.373510e+05</td>\n",
              "      <td>1.000000</td>\n",
              "      <td>40.523980</td>\n",
              "      <td>-79.748951</td>\n",
              "      <td>40.524638</td>\n",
              "      <td>-79.761920</td>\n",
              "      <td>0.000000</td>\n",
              "      <td>1.000000</td>\n",
              "      <td>-12.000000</td>\n",
              "      <td>-30.400000</td>\n",
              "      <td>13.000000</td>\n",
              "      <td>27.550000</td>\n",
              "      <td>0.000000</td>\n",
              "      <td>0.000000</td>\n",
              "      <td>0.000000</td>\n",
              "    </tr>\n",
              "    <tr>\n",
              "      <th>25%</th>\n",
              "      <td>4.998200e+05</td>\n",
              "      <td>2.000000</td>\n",
              "      <td>40.772600</td>\n",
              "      <td>-76.049410</td>\n",
              "      <td>40.774311</td>\n",
              "      <td>-76.047636</td>\n",
              "      <td>0.000000</td>\n",
              "      <td>215.000000</td>\n",
              "      <td>39.900000</td>\n",
              "      <td>34.000000</td>\n",
              "      <td>49.000000</td>\n",
              "      <td>29.470000</td>\n",
              "      <td>10.000000</td>\n",
              "      <td>5.000000</td>\n",
              "      <td>0.000000</td>\n",
              "    </tr>\n",
              "    <tr>\n",
              "      <th>50%</th>\n",
              "      <td>7.266940e+05</td>\n",
              "      <td>2.000000</td>\n",
              "      <td>41.065783</td>\n",
              "      <td>-73.929060</td>\n",
              "      <td>41.068520</td>\n",
              "      <td>-73.929030</td>\n",
              "      <td>0.192000</td>\n",
              "      <td>857.000000</td>\n",
              "      <td>51.000000</td>\n",
              "      <td>51.000000</td>\n",
              "      <td>67.000000</td>\n",
              "      <td>29.740000</td>\n",
              "      <td>10.000000</td>\n",
              "      <td>8.000000</td>\n",
              "      <td>0.000000</td>\n",
              "    </tr>\n",
              "    <tr>\n",
              "      <th>75%</th>\n",
              "      <td>9.178200e+05</td>\n",
              "      <td>2.000000</td>\n",
              "      <td>42.989290</td>\n",
              "      <td>-73.781207</td>\n",
              "      <td>42.987950</td>\n",
              "      <td>-73.781337</td>\n",
              "      <td>0.687000</td>\n",
              "      <td>2451.000000</td>\n",
              "      <td>65.000000</td>\n",
              "      <td>65.000000</td>\n",
              "      <td>84.000000</td>\n",
              "      <td>29.990000</td>\n",
              "      <td>10.000000</td>\n",
              "      <td>13.000000</td>\n",
              "      <td>0.000000</td>\n",
              "    </tr>\n",
              "    <tr>\n",
              "      <th>max</th>\n",
              "      <td>1.515693e+06</td>\n",
              "      <td>4.000000</td>\n",
              "      <td>44.917460</td>\n",
              "      <td>-71.943680</td>\n",
              "      <td>44.981057</td>\n",
              "      <td>-71.943680</td>\n",
              "      <td>49.240000</td>\n",
              "      <td>52027.000000</td>\n",
              "      <td>96.000000</td>\n",
              "      <td>96.000000</td>\n",
              "      <td>100.000000</td>\n",
              "      <td>30.710000</td>\n",
              "      <td>20.000000</td>\n",
              "      <td>40.000000</td>\n",
              "      <td>0.830000</td>\n",
              "    </tr>\n",
              "  </tbody>\n",
              "</table>\n",
              "</div>"
            ],
            "text/plain": [
              "         Unnamed: 0      Severity  ...  Wind_Speed.mph.  Precipitation.in.\n",
              "count  3.953700e+04  39537.000000  ...     38349.000000       37594.000000\n",
              "mean   7.543609e+05      2.282900  ...         9.132535           0.005389\n",
              "std    3.307301e+05      0.642619  ...         5.870588           0.027952\n",
              "min    2.373510e+05      1.000000  ...         0.000000           0.000000\n",
              "25%    4.998200e+05      2.000000  ...         5.000000           0.000000\n",
              "50%    7.266940e+05      2.000000  ...         8.000000           0.000000\n",
              "75%    9.178200e+05      2.000000  ...        13.000000           0.000000\n",
              "max    1.515693e+06      4.000000  ...        40.000000           0.830000\n",
              "\n",
              "[8 rows x 15 columns]"
            ]
          },
          "metadata": {},
          "execution_count": 5
        }
      ]
    },
    {
      "cell_type": "code",
      "metadata": {
        "colab": {
          "base_uri": "https://localhost:8080/"
        },
        "id": "ewlXPPSVCSCD",
        "outputId": "104c921e-a739-4c83-fd25-fedf693f15a0"
      },
      "source": [
        "df_accidents.shape"
      ],
      "id": "ewlXPPSVCSCD",
      "execution_count": 6,
      "outputs": [
        {
          "output_type": "execute_result",
          "data": {
            "text/plain": [
              "(39537, 48)"
            ]
          },
          "metadata": {},
          "execution_count": 6
        }
      ]
    },
    {
      "cell_type": "code",
      "metadata": {
        "id": "5vnQXsBU583U"
      },
      "source": [
        "df1 = df_accidents.isnull().sum()\n",
        "df1.to_excel('df_isnull.xls')"
      ],
      "id": "5vnQXsBU583U",
      "execution_count": 11,
      "outputs": []
    },
    {
      "cell_type": "code",
      "metadata": {
        "id": "WVzdNZ6bCgH0"
      },
      "source": [
        "#Number column is missing a lot of data, so it be dropped\n",
        "df_accidents = df_accidents.drop('Number', axis=1)"
      ],
      "id": "WVzdNZ6bCgH0",
      "execution_count": null,
      "outputs": []
    },
    {
      "cell_type": "code",
      "metadata": {
        "colab": {
          "base_uri": "https://localhost:8080/"
        },
        "id": "4PdXYHUpCl6_",
        "outputId": "de14939b-b1eb-4911-bf80-7684a676de36"
      },
      "source": [
        "df_accidents.shape"
      ],
      "id": "4PdXYHUpCl6_",
      "execution_count": null,
      "outputs": [
        {
          "output_type": "execute_result",
          "data": {
            "text/plain": [
              "(39537, 53)"
            ]
          },
          "metadata": {},
          "execution_count": 52
        }
      ]
    },
    {
      "cell_type": "code",
      "metadata": {
        "id": "OL0RcbbIC-iW"
      },
      "source": [
        "#seperate Start Date and End Date into Date and Time fields\n",
        "df_accidents['Start_Date'] = pd.to_datetime(df_accidents['Start_Time']).dt.date\n",
        "df_accidents['Start_Time'] = pd.to_datetime(df_accidents['Start_Time']).dt.time\n",
        "df_accidents['End_Date'] = pd.to_datetime(df_accidents['End_Time']).dt.date\n",
        "df_accidents['End_Time'] = pd.to_datetime(df_accidents['End_Time']).dt.time"
      ],
      "id": "OL0RcbbIC-iW",
      "execution_count": 8,
      "outputs": []
    },
    {
      "cell_type": "code",
      "metadata": {
        "id": "pKgnMIEZ4vZU",
        "colab": {
          "base_uri": "https://localhost:8080/"
        },
        "outputId": "c7af3b93-fb48-4bc7-828e-b28b4a8c4cfe"
      },
      "source": [
        "df_accidents['Start_Date'].min(), df_accidents['End_Date'].max()"
      ],
      "id": "pKgnMIEZ4vZU",
      "execution_count": 9,
      "outputs": [
        {
          "output_type": "execute_result",
          "data": {
            "text/plain": [
              "(datetime.date(2019, 1, 1), datetime.date(2020, 12, 31))"
            ]
          },
          "metadata": {},
          "execution_count": 9
        }
      ]
    },
    {
      "cell_type": "code",
      "metadata": {
        "colab": {
          "base_uri": "https://localhost:8080/",
          "height": 564
        },
        "id": "cYU10h8ww-YM",
        "outputId": "88082e4c-cf4e-423d-b89d-35edfa63ee06"
      },
      "source": [
        "df_accidents.head(5)"
      ],
      "id": "cYU10h8ww-YM",
      "execution_count": null,
      "outputs": [
        {
          "output_type": "execute_result",
          "data": {
            "text/html": [
              "<div>\n",
              "<style scoped>\n",
              "    .dataframe tbody tr th:only-of-type {\n",
              "        vertical-align: middle;\n",
              "    }\n",
              "\n",
              "    .dataframe tbody tr th {\n",
              "        vertical-align: top;\n",
              "    }\n",
              "\n",
              "    .dataframe thead th {\n",
              "        text-align: right;\n",
              "    }\n",
              "</style>\n",
              "<table border=\"1\" class=\"dataframe\">\n",
              "  <thead>\n",
              "    <tr style=\"text-align: right;\">\n",
              "      <th></th>\n",
              "      <th>Unnamed: 0</th>\n",
              "      <th>ID</th>\n",
              "      <th>Severity</th>\n",
              "      <th>Start_Time</th>\n",
              "      <th>End_Time</th>\n",
              "      <th>Start_Lat</th>\n",
              "      <th>Start_Lng</th>\n",
              "      <th>End_Lat</th>\n",
              "      <th>End_Lng</th>\n",
              "      <th>Distance.mi.</th>\n",
              "      <th>Description</th>\n",
              "      <th>Street</th>\n",
              "      <th>Side</th>\n",
              "      <th>City</th>\n",
              "      <th>County</th>\n",
              "      <th>State</th>\n",
              "      <th>Zipcode</th>\n",
              "      <th>Country</th>\n",
              "      <th>Timezone</th>\n",
              "      <th>Airport_Code</th>\n",
              "      <th>Weather_Timestamp</th>\n",
              "      <th>Temperature.F.</th>\n",
              "      <th>Wind_Chill.F.</th>\n",
              "      <th>Humidity...</th>\n",
              "      <th>Pressure.in.</th>\n",
              "      <th>Visibility.mi.</th>\n",
              "      <th>Wind_Direction</th>\n",
              "      <th>Wind_Speed.mph.</th>\n",
              "      <th>Precipitation.in.</th>\n",
              "      <th>Weather_Condition</th>\n",
              "      <th>Amenity</th>\n",
              "      <th>Bump</th>\n",
              "      <th>Crossing</th>\n",
              "      <th>Give_Way</th>\n",
              "      <th>Junction</th>\n",
              "      <th>No_Exit</th>\n",
              "      <th>Railway</th>\n",
              "      <th>Roundabout</th>\n",
              "      <th>Station</th>\n",
              "      <th>Stop</th>\n",
              "      <th>Traffic_Calming</th>\n",
              "      <th>Traffic_Signal</th>\n",
              "      <th>Turning_Loop</th>\n",
              "      <th>Sunrise_Sunset</th>\n",
              "      <th>Civil_Twilight</th>\n",
              "      <th>Nautical_Twilight</th>\n",
              "      <th>Astronomical_Twilight</th>\n",
              "      <th>Start_Date</th>\n",
              "      <th>End_Date</th>\n",
              "      <th>Start_Hour</th>\n",
              "      <th>End_Hour</th>\n",
              "      <th>Start_Month</th>\n",
              "      <th>End_Month</th>\n",
              "    </tr>\n",
              "  </thead>\n",
              "  <tbody>\n",
              "    <tr>\n",
              "      <th>0</th>\n",
              "      <td>237351</td>\n",
              "      <td>A-2953957</td>\n",
              "      <td>2</td>\n",
              "      <td>20:52:00</td>\n",
              "      <td>22:17:27</td>\n",
              "      <td>43.119443</td>\n",
              "      <td>-75.293198</td>\n",
              "      <td>43.120291</td>\n",
              "      <td>-75.293547</td>\n",
              "      <td>0.061</td>\n",
              "      <td>Incident on ORISKANY BLVD near HOUSE 131 Expec...</td>\n",
              "      <td>Oriskany Blvd</td>\n",
              "      <td>R</td>\n",
              "      <td>Whitesboro</td>\n",
              "      <td>Oneida</td>\n",
              "      <td>NY</td>\n",
              "      <td>13492-1322</td>\n",
              "      <td>US</td>\n",
              "      <td>US/Eastern</td>\n",
              "      <td>KRME</td>\n",
              "      <td>2020-12-03 20:53:00</td>\n",
              "      <td>32.0</td>\n",
              "      <td>32.0</td>\n",
              "      <td>75.0</td>\n",
              "      <td>29.47</td>\n",
              "      <td>10.0</td>\n",
              "      <td>CALM</td>\n",
              "      <td>0.0</td>\n",
              "      <td>0.0</td>\n",
              "      <td>Fair</td>\n",
              "      <td>False</td>\n",
              "      <td>False</td>\n",
              "      <td>False</td>\n",
              "      <td>False</td>\n",
              "      <td>False</td>\n",
              "      <td>False</td>\n",
              "      <td>False</td>\n",
              "      <td>False</td>\n",
              "      <td>False</td>\n",
              "      <td>False</td>\n",
              "      <td>False</td>\n",
              "      <td>False</td>\n",
              "      <td>False</td>\n",
              "      <td>Night</td>\n",
              "      <td>Night</td>\n",
              "      <td>Night</td>\n",
              "      <td>Night</td>\n",
              "      <td>2020-12-03</td>\n",
              "      <td>2020-12-03</td>\n",
              "      <td>20</td>\n",
              "      <td>22</td>\n",
              "      <td>12</td>\n",
              "      <td>12</td>\n",
              "    </tr>\n",
              "    <tr>\n",
              "      <th>1</th>\n",
              "      <td>237362</td>\n",
              "      <td>A-2953968</td>\n",
              "      <td>2</td>\n",
              "      <td>23:19:55</td>\n",
              "      <td>23:41:46</td>\n",
              "      <td>40.834883</td>\n",
              "      <td>-73.866244</td>\n",
              "      <td>40.833773</td>\n",
              "      <td>-73.863254</td>\n",
              "      <td>0.174</td>\n",
              "      <td>Queuing traffic in White Plains Rd exit [5A] d...</td>\n",
              "      <td>Cross Bronx Expy E</td>\n",
              "      <td>R</td>\n",
              "      <td>Bronx</td>\n",
              "      <td>Bronx</td>\n",
              "      <td>NY</td>\n",
              "      <td>10460</td>\n",
              "      <td>US</td>\n",
              "      <td>US/Eastern</td>\n",
              "      <td>KLGA</td>\n",
              "      <td>2020-09-25 22:51:00</td>\n",
              "      <td>70.0</td>\n",
              "      <td>70.0</td>\n",
              "      <td>76.0</td>\n",
              "      <td>30.08</td>\n",
              "      <td>10.0</td>\n",
              "      <td>SSW</td>\n",
              "      <td>7.0</td>\n",
              "      <td>0.0</td>\n",
              "      <td>Mostly Cloudy</td>\n",
              "      <td>False</td>\n",
              "      <td>False</td>\n",
              "      <td>True</td>\n",
              "      <td>False</td>\n",
              "      <td>True</td>\n",
              "      <td>False</td>\n",
              "      <td>False</td>\n",
              "      <td>False</td>\n",
              "      <td>False</td>\n",
              "      <td>False</td>\n",
              "      <td>False</td>\n",
              "      <td>False</td>\n",
              "      <td>False</td>\n",
              "      <td>Night</td>\n",
              "      <td>Night</td>\n",
              "      <td>Night</td>\n",
              "      <td>Night</td>\n",
              "      <td>2020-09-25</td>\n",
              "      <td>2020-09-25</td>\n",
              "      <td>23</td>\n",
              "      <td>23</td>\n",
              "      <td>9</td>\n",
              "      <td>9</td>\n",
              "    </tr>\n",
              "    <tr>\n",
              "      <th>2</th>\n",
              "      <td>237365</td>\n",
              "      <td>A-2953971</td>\n",
              "      <td>2</td>\n",
              "      <td>12:17:30</td>\n",
              "      <td>03:44:00</td>\n",
              "      <td>40.802117</td>\n",
              "      <td>-73.916498</td>\n",
              "      <td>40.804907</td>\n",
              "      <td>-73.911238</td>\n",
              "      <td>0.336</td>\n",
              "      <td>Stationary traffic on I-278 from 31st St/Hoyt ...</td>\n",
              "      <td>Bruckner Expy E</td>\n",
              "      <td>R</td>\n",
              "      <td>Bronx</td>\n",
              "      <td>Bronx</td>\n",
              "      <td>NY</td>\n",
              "      <td>10454</td>\n",
              "      <td>US</td>\n",
              "      <td>US/Eastern</td>\n",
              "      <td>KLGA</td>\n",
              "      <td>2020-10-15 11:51:00</td>\n",
              "      <td>71.0</td>\n",
              "      <td>71.0</td>\n",
              "      <td>51.0</td>\n",
              "      <td>29.98</td>\n",
              "      <td>10.0</td>\n",
              "      <td>S</td>\n",
              "      <td>16.0</td>\n",
              "      <td>0.0</td>\n",
              "      <td>Fair</td>\n",
              "      <td>False</td>\n",
              "      <td>False</td>\n",
              "      <td>False</td>\n",
              "      <td>False</td>\n",
              "      <td>True</td>\n",
              "      <td>False</td>\n",
              "      <td>False</td>\n",
              "      <td>False</td>\n",
              "      <td>False</td>\n",
              "      <td>True</td>\n",
              "      <td>False</td>\n",
              "      <td>False</td>\n",
              "      <td>False</td>\n",
              "      <td>Day</td>\n",
              "      <td>Day</td>\n",
              "      <td>Day</td>\n",
              "      <td>Day</td>\n",
              "      <td>2020-10-15</td>\n",
              "      <td>2020-10-16</td>\n",
              "      <td>12</td>\n",
              "      <td>3</td>\n",
              "      <td>10</td>\n",
              "      <td>10</td>\n",
              "    </tr>\n",
              "    <tr>\n",
              "      <th>3</th>\n",
              "      <td>237402</td>\n",
              "      <td>A-2954008</td>\n",
              "      <td>2</td>\n",
              "      <td>02:58:56</td>\n",
              "      <td>04:40:33</td>\n",
              "      <td>43.073669</td>\n",
              "      <td>-78.990615</td>\n",
              "      <td>43.075229</td>\n",
              "      <td>-78.990615</td>\n",
              "      <td>0.108</td>\n",
              "      <td>Crash right lane blocked on I-190 - Niagara Th...</td>\n",
              "      <td>North Grand Island Bridge</td>\n",
              "      <td>R</td>\n",
              "      <td>Niagara Falls</td>\n",
              "      <td>Niagara</td>\n",
              "      <td>NY</td>\n",
              "      <td>14304</td>\n",
              "      <td>US</td>\n",
              "      <td>US/Eastern</td>\n",
              "      <td>KIAG</td>\n",
              "      <td>2020-10-03 02:53:00</td>\n",
              "      <td>43.0</td>\n",
              "      <td>43.0</td>\n",
              "      <td>97.0</td>\n",
              "      <td>29.52</td>\n",
              "      <td>10.0</td>\n",
              "      <td>CALM</td>\n",
              "      <td>0.0</td>\n",
              "      <td>0.0</td>\n",
              "      <td>Partly Cloudy</td>\n",
              "      <td>False</td>\n",
              "      <td>False</td>\n",
              "      <td>False</td>\n",
              "      <td>False</td>\n",
              "      <td>True</td>\n",
              "      <td>False</td>\n",
              "      <td>False</td>\n",
              "      <td>False</td>\n",
              "      <td>False</td>\n",
              "      <td>False</td>\n",
              "      <td>False</td>\n",
              "      <td>False</td>\n",
              "      <td>False</td>\n",
              "      <td>Night</td>\n",
              "      <td>Night</td>\n",
              "      <td>Night</td>\n",
              "      <td>Night</td>\n",
              "      <td>2020-10-03</td>\n",
              "      <td>2020-10-03</td>\n",
              "      <td>2</td>\n",
              "      <td>4</td>\n",
              "      <td>10</td>\n",
              "      <td>10</td>\n",
              "    </tr>\n",
              "    <tr>\n",
              "      <th>4</th>\n",
              "      <td>237423</td>\n",
              "      <td>A-2954030</td>\n",
              "      <td>2</td>\n",
              "      <td>13:19:55</td>\n",
              "      <td>15:24:11</td>\n",
              "      <td>41.308840</td>\n",
              "      <td>-74.025331</td>\n",
              "      <td>41.307460</td>\n",
              "      <td>-74.027961</td>\n",
              "      <td>0.167</td>\n",
              "      <td>Incident on PALISADES INTERSTATE PKWY SB near ...</td>\n",
              "      <td>Palisades Interstate Pkwy S</td>\n",
              "      <td>R</td>\n",
              "      <td>Fort Montgomery</td>\n",
              "      <td>Orange</td>\n",
              "      <td>NY</td>\n",
              "      <td>10922</td>\n",
              "      <td>US</td>\n",
              "      <td>US/Eastern</td>\n",
              "      <td>NaN</td>\n",
              "      <td>NaN</td>\n",
              "      <td>NaN</td>\n",
              "      <td>NaN</td>\n",
              "      <td>NaN</td>\n",
              "      <td>NaN</td>\n",
              "      <td>NaN</td>\n",
              "      <td>NaN</td>\n",
              "      <td>NaN</td>\n",
              "      <td>NaN</td>\n",
              "      <td>NaN</td>\n",
              "      <td>False</td>\n",
              "      <td>False</td>\n",
              "      <td>False</td>\n",
              "      <td>False</td>\n",
              "      <td>True</td>\n",
              "      <td>False</td>\n",
              "      <td>False</td>\n",
              "      <td>False</td>\n",
              "      <td>False</td>\n",
              "      <td>False</td>\n",
              "      <td>False</td>\n",
              "      <td>False</td>\n",
              "      <td>False</td>\n",
              "      <td>Day</td>\n",
              "      <td>Day</td>\n",
              "      <td>Day</td>\n",
              "      <td>Day</td>\n",
              "      <td>2020-09-17</td>\n",
              "      <td>2020-09-17</td>\n",
              "      <td>13</td>\n",
              "      <td>15</td>\n",
              "      <td>9</td>\n",
              "      <td>9</td>\n",
              "    </tr>\n",
              "  </tbody>\n",
              "</table>\n",
              "</div>"
            ],
            "text/plain": [
              "   Unnamed: 0         ID  Severity  ... End_Hour Start_Month  End_Month\n",
              "0      237351  A-2953957         2  ...       22          12         12\n",
              "1      237362  A-2953968         2  ...       23           9          9\n",
              "2      237365  A-2953971         2  ...        3          10         10\n",
              "3      237402  A-2954008         2  ...        4          10         10\n",
              "4      237423  A-2954030         2  ...       15           9          9\n",
              "\n",
              "[5 rows x 53 columns]"
            ]
          },
          "metadata": {},
          "execution_count": 53
        }
      ]
    },
    {
      "cell_type": "code",
      "metadata": {
        "id": "vkh9LAJCZX_l"
      },
      "source": [
        "df_accidents['Start_Hour'] = pd.to_datetime(df_accidents['Start_Time'], format='%H:%M:%S').dt.hour\n",
        "df_accidents['End_Hour'] = pd.to_datetime(df_accidents['End_Time'], format='%H:%M:%S').dt.hour\n",
        "\n",
        "df_accidents['Start_Month'] = pd.to_datetime(df_accidents['Start_Date']).dt.month\n",
        "df_accidents['End_Month'] = pd.to_datetime(df_accidents['End_Date']).dt.month\n",
        "\n",
        "df_accidents[\"Start_Day\"] = pd.DatetimeIndex(df_accidents[\"Start_Date\"]).dayofweek\n",
        "df_accidents[\"Start_Day\"] = df_accidents[\"Start_Day\"].map({0:\"Sunday\", 1:\"Monday\",2:\"Tuesday\",3:\"Wednesday\",4:\"Thursday\", 5:\"Friday\", 6:\"Saturday\"})\n",
        "\n",
        "df_accidents[\"Start_Month\"] = df_accidents[\"Start_Month\"].map({1:\"January\", 2:\"Febuary\", 3:\"March\", 4:\"April\", 5:\"May\", 6:\"June\", 7:\"July\", 8:\"August\", 9:\"September\",10:\"October\",\n",
        "    11:\"November\", 12:\"December\"})"
      ],
      "id": "vkh9LAJCZX_l",
      "execution_count": 62,
      "outputs": []
    },
    {
      "cell_type": "code",
      "metadata": {
        "colab": {
          "base_uri": "https://localhost:8080/"
        },
        "id": "M5shfEOT0rx9",
        "outputId": "502dbfa3-3ccf-4a3c-9924-b8596cd57ac3"
      },
      "source": [
        "df_accidents['County'].nunique()"
      ],
      "id": "M5shfEOT0rx9",
      "execution_count": null,
      "outputs": [
        {
          "output_type": "execute_result",
          "data": {
            "text/plain": [
              "63"
            ]
          },
          "metadata": {},
          "execution_count": 42
        }
      ]
    },
    {
      "cell_type": "code",
      "metadata": {
        "colab": {
          "base_uri": "https://localhost:8080/"
        },
        "id": "OdxzhCGEIa6Q",
        "outputId": "9d8cd5e0-34fe-407d-f0c5-43a05cc294c2"
      },
      "source": [
        "df_accidents['County'].unique()"
      ],
      "id": "OdxzhCGEIa6Q",
      "execution_count": 21,
      "outputs": [
        {
          "output_type": "execute_result",
          "data": {
            "text/plain": [
              "array(['Oneida', 'Bronx', 'Niagara', 'Orange', 'Westchester', 'Erie',\n",
              "       'New York', 'Monroe', 'Queens', 'Kings', 'Seneca', 'Schenectady',\n",
              "       'Suffolk', 'Onondaga', 'Albany', 'Rockland', 'Cayuga', 'Delaware',\n",
              "       'Nassau', 'Ulster', 'Chautauqua', 'Saratoga', 'Rensselaer',\n",
              "       'Putnam', 'Columbia', 'Genesee', 'Oswego', 'Dutchess', 'Herkimer',\n",
              "       'Montgomery', 'Richmond', 'Warren', 'Livingston', 'Greene',\n",
              "       'Tioga', 'Ontario', 'Madison', 'Washington', 'Wyoming', 'Otsego',\n",
              "       'Cortland', 'Cattaraugus', 'Jefferson', 'Fulton', 'Sullivan',\n",
              "       'Broome', 'Schuyler', 'St. Lawrence', 'Steuben', 'Clinton',\n",
              "       'Schoharie', 'Orleans', 'Wayne', 'Chemung', 'Hamilton', 'Chenango',\n",
              "       'Yates', 'Lewis', 'Tompkins', 'Essex', 'Franklin', 'Allegany',\n",
              "       'Saint Lawrence'], dtype=object)"
            ]
          },
          "metadata": {},
          "execution_count": 21
        }
      ]
    },
    {
      "cell_type": "markdown",
      "metadata": {
        "id": "FdzvxtNz59ew"
      },
      "source": [
        "# Data Visualisations"
      ],
      "id": "FdzvxtNz59ew"
    },
    {
      "cell_type": "code",
      "metadata": {
        "colab": {
          "base_uri": "https://localhost:8080/",
          "height": 609
        },
        "id": "wDwiL2yPHQa6",
        "outputId": "41a120f5-3fc6-45a1-b591-dcd4bd9a2a5a"
      },
      "source": [
        "sns.countplot(df_accidents['Start_Month'])\n",
        "plt.title(\"ACCIDENTS BY MONTH\",fontsize=20)"
      ],
      "id": "wDwiL2yPHQa6",
      "execution_count": 68,
      "outputs": [
        {
          "output_type": "stream",
          "name": "stderr",
          "text": [
            "/usr/local/lib/python3.7/dist-packages/seaborn/_decorators.py:43: FutureWarning: Pass the following variable as a keyword arg: x. From version 0.12, the only valid positional argument will be `data`, and passing other arguments without an explicit keyword will result in an error or misinterpretation.\n",
            "  FutureWarning\n"
          ]
        },
        {
          "output_type": "execute_result",
          "data": {
            "text/plain": [
              "Text(0.5, 1.0, 'ACCIDENTS BY MONTH')"
            ]
          },
          "metadata": {},
          "execution_count": 68
        },
        {
          "output_type": "display_data",
          "data": {
            "image/png": "[encoded data removed]",
            "text/plain": [
              "<Figure size 842.4x595.44 with 1 Axes>"
            ]
          },
          "metadata": {}
        }
      ]
    },
    {
      "cell_type": "code",
      "metadata": {
        "colab": {
          "base_uri": "https://localhost:8080/",
          "height": 609
        },
        "id": "ddzkf6aeZhXA",
        "outputId": "fbb58ebf-0476-4fed-ac38-e15fd69dc02f"
      },
      "source": [
        "sns.countplot(df_accidents['Start_Hour'])\n",
        "plt.title(\"ACCIDENTS BY HOUR\",fontsize=20)"
      ],
      "id": "ddzkf6aeZhXA",
      "execution_count": 65,
      "outputs": [
        {
          "output_type": "stream",
          "name": "stderr",
          "text": [
            "/usr/local/lib/python3.7/dist-packages/seaborn/_decorators.py:43: FutureWarning: Pass the following variable as a keyword arg: x. From version 0.12, the only valid positional argument will be `data`, and passing other arguments without an explicit keyword will result in an error or misinterpretation.\n",
            "  FutureWarning\n"
          ]
        },
        {
          "output_type": "execute_result",
          "data": {
            "text/plain": [
              "Text(0.5, 1.0, 'ACCIDENTS BY HOUR')"
            ]
          },
          "metadata": {},
          "execution_count": 65
        },
        {
          "output_type": "display_data",
          "data": {
            "image/png": "[encoded data removed]",
            "text/plain": [
              "<Figure size 842.4x595.44 with 1 Axes>"
            ]
          },
          "metadata": {}
        }
      ]
    },
    {
      "cell_type": "code",
      "metadata": {
        "colab": {
          "base_uri": "https://localhost:8080/",
          "height": 609
        },
        "id": "ISbhIxgfHXOg",
        "outputId": "0fcb5559-a759-4222-a532-5a4c323e28a4"
      },
      "source": [
        "sns.countplot(df_accidents['Start_Day'])\n",
        "plt.title(\"ACCIDENTS BY DAY\",fontsize=20)"
      ],
      "id": "ISbhIxgfHXOg",
      "execution_count": 77,
      "outputs": [
        {
          "output_type": "stream",
          "name": "stderr",
          "text": [
            "/usr/local/lib/python3.7/dist-packages/seaborn/_decorators.py:43: FutureWarning: Pass the following variable as a keyword arg: x. From version 0.12, the only valid positional argument will be `data`, and passing other arguments without an explicit keyword will result in an error or misinterpretation.\n",
            "  FutureWarning\n"
          ]
        },
        {
          "output_type": "execute_result",
          "data": {
            "text/plain": [
              "Text(0.5, 1.0, 'ACCIDENTS BY DAY')"
            ]
          },
          "metadata": {},
          "execution_count": 77
        },
        {
          "output_type": "display_data",
          "data": {
            "image/png": "[encoded data removed]",
            "text/plain": [
              "<Figure size 842.4x595.44 with 1 Axes>"
            ]
          },
          "metadata": {}
        }
      ]
    },
    {
      "cell_type": "code",
      "metadata": {
        "colab": {
          "base_uri": "https://localhost:8080/",
          "height": 609
        },
        "id": "Gxv-ECjc55A4",
        "outputId": "89b77aff-f08a-4fd0-d8e1-a9a7e16dc910"
      },
      "source": [
        "sns.countplot(df_accidents['Severity'])\n",
        "plt.title(\"ACCIDENTS by SEVERITY\",fontsize=20)"
      ],
      "id": "Gxv-ECjc55A4",
      "execution_count": 59,
      "outputs": [
        {
          "output_type": "stream",
          "name": "stderr",
          "text": [
            "/usr/local/lib/python3.7/dist-packages/seaborn/_decorators.py:43: FutureWarning: Pass the following variable as a keyword arg: x. From version 0.12, the only valid positional argument will be `data`, and passing other arguments without an explicit keyword will result in an error or misinterpretation.\n",
            "  FutureWarning\n"
          ]
        },
        {
          "output_type": "execute_result",
          "data": {
            "text/plain": [
              "Text(0.5, 1.0, 'ACCIDENTS by SEVERITY')"
            ]
          },
          "metadata": {},
          "execution_count": 59
        },
        {
          "output_type": "display_data",
          "data": {
            "image/png": "[encoded data removed]",
            "text/plain": [
              "<Figure size 842.4x595.44 with 1 Axes>"
            ]
          },
          "metadata": {}
        }
      ]
    },
    {
      "cell_type": "code",
      "metadata": {
        "colab": {
          "base_uri": "https://localhost:8080/",
          "height": 534
        },
        "id": "pDaQfzHW7N1Z",
        "outputId": "fafed537-501a-45ea-c8f7-ff9f40978f83"
      },
      "source": [
        "sns.scatterplot(x=df_accidents.Start_Lng, y=df_accidents.Start_Lat, size=0.001)"
      ],
      "id": "pDaQfzHW7N1Z",
      "execution_count": null,
      "outputs": [
        {
          "output_type": "execute_result",
          "data": {
            "text/plain": [
              "<matplotlib.axes._subplots.AxesSubplot at 0x7fe830a99d50>"
            ]
          },
          "metadata": {},
          "execution_count": 54
        },
        {
          "output_type": "display_data",
          "data": {
            "image/png": "[encoded data removed]",
            "text/plain": [
              "<Figure size 842.4x595.44 with 1 Axes>"
            ]
          },
          "metadata": {}
        }
      ]
    },
    {
      "cell_type": "code",
      "metadata": {
        "id": "06Ix2C1-62v1"
      },
      "source": [
        "#top county in NY by accident \n",
        "county_count = df_accidents.groupby('County').count().reset_index()\n",
        "county_count_sort = county_count.sort_values(by = \"ID\", ascending = False)\n",
        "county_count_sort = county_count_sort.head(15)"
      ],
      "id": "06Ix2C1-62v1",
      "execution_count": 34,
      "outputs": []
    },
    {
      "cell_type": "code",
      "metadata": {
        "colab": {
          "base_uri": "https://localhost:8080/",
          "height": 555
        },
        "id": "g0SgvTjF7Vql",
        "outputId": "c9a285e3-4e8a-4df7-ce2a-29607eb6bbc1"
      },
      "source": [
        "sns.barplot(y = \"County\", x = \"ID\", data = county_count_sort)\n",
        "plt.title(\"COUNTY WITH NUMBER OF ACCIDENTS\",fontsize=20)"
      ],
      "id": "g0SgvTjF7Vql",
      "execution_count": 58,
      "outputs": [
        {
          "output_type": "execute_result",
          "data": {
            "text/plain": [
              "Text(0.5, 1.0, 'COUNTY WITH NUMBER OF ACCIDENTS')"
            ]
          },
          "metadata": {},
          "execution_count": 58
        },
        {
          "output_type": "display_data",
          "data": {
            "image/png": "[encoded data removed]",
            "text/plain": [
              "<Figure size 842.4x595.44 with 1 Axes>"
            ]
          },
          "metadata": {}
        }
      ]
    },
    {
      "cell_type": "markdown",
      "metadata": {
        "id": "SY6UpNqu8cTT"
      },
      "source": [
        "Analsying Accidents by Weather Conditions\n"
      ],
      "id": "SY6UpNqu8cTT"
    },
    {
      "cell_type": "code",
      "metadata": {
        "colab": {
          "base_uri": "https://localhost:8080/",
          "height": 568
        },
        "id": "694XsiRO8iMW",
        "outputId": "d921ac74-28ca-4251-d685-ebb1ac41d7f9"
      },
      "source": [
        "print('Mean temperature: ({:.2f})\\n'.format(df_accidents['Temperature.F.'].mean()))\n",
        "\n",
        "sns.histplot(data = df_accidents, x = \"Temperature.F.\")"
      ],
      "id": "694XsiRO8iMW",
      "execution_count": 45,
      "outputs": [
        {
          "output_type": "stream",
          "name": "stdout",
          "text": [
            "Mean temperature: (51.92)\n",
            "\n"
          ]
        },
        {
          "output_type": "execute_result",
          "data": {
            "text/plain": [
              "<matplotlib.axes._subplots.AxesSubplot at 0x7f4eb444a390>"
            ]
          },
          "metadata": {},
          "execution_count": 45
        },
        {
          "output_type": "display_data",
          "data": {
            "image/png": "[encoded data removed]",
            "text/plain": [
              "<Figure size 842.4x595.44 with 1 Axes>"
            ]
          },
          "metadata": {}
        }
      ]
    },
    {
      "cell_type": "code",
      "metadata": {
        "colab": {
          "base_uri": "https://localhost:8080/",
          "height": 564
        },
        "id": "AIPPaSpSGMf1",
        "outputId": "865d000f-2188-441d-c248-665dc9c667a0"
      },
      "source": [
        "df_accidents.head()"
      ],
      "id": "AIPPaSpSGMf1",
      "execution_count": 71,
      "outputs": [
        {
          "output_type": "execute_result",
          "data": {
            "text/html": [
              "<div>\n",
              "<style scoped>\n",
              "    .dataframe tbody tr th:only-of-type {\n",
              "        vertical-align: middle;\n",
              "    }\n",
              "\n",
              "    .dataframe tbody tr th {\n",
              "        vertical-align: top;\n",
              "    }\n",
              "\n",
              "    .dataframe thead th {\n",
              "        text-align: right;\n",
              "    }\n",
              "</style>\n",
              "<table border=\"1\" class=\"dataframe\">\n",
              "  <thead>\n",
              "    <tr style=\"text-align: right;\">\n",
              "      <th></th>\n",
              "      <th>Unnamed: 0</th>\n",
              "      <th>ID</th>\n",
              "      <th>Severity</th>\n",
              "      <th>Start_Time</th>\n",
              "      <th>End_Time</th>\n",
              "      <th>Start_Lat</th>\n",
              "      <th>Start_Lng</th>\n",
              "      <th>End_Lat</th>\n",
              "      <th>End_Lng</th>\n",
              "      <th>Distance.mi.</th>\n",
              "      <th>Description</th>\n",
              "      <th>Number</th>\n",
              "      <th>Street</th>\n",
              "      <th>Side</th>\n",
              "      <th>City</th>\n",
              "      <th>County</th>\n",
              "      <th>State</th>\n",
              "      <th>Zipcode</th>\n",
              "      <th>Country</th>\n",
              "      <th>Timezone</th>\n",
              "      <th>Airport_Code</th>\n",
              "      <th>Weather_Timestamp</th>\n",
              "      <th>Temperature.F.</th>\n",
              "      <th>Wind_Chill.F.</th>\n",
              "      <th>Humidity...</th>\n",
              "      <th>Pressure.in.</th>\n",
              "      <th>Visibility.mi.</th>\n",
              "      <th>Wind_Direction</th>\n",
              "      <th>Wind_Speed.mph.</th>\n",
              "      <th>Precipitation.in.</th>\n",
              "      <th>Weather_Condition</th>\n",
              "      <th>Amenity</th>\n",
              "      <th>Bump</th>\n",
              "      <th>Crossing</th>\n",
              "      <th>Give_Way</th>\n",
              "      <th>Junction</th>\n",
              "      <th>No_Exit</th>\n",
              "      <th>Railway</th>\n",
              "      <th>Roundabout</th>\n",
              "      <th>Station</th>\n",
              "      <th>Stop</th>\n",
              "      <th>Traffic_Calming</th>\n",
              "      <th>Traffic_Signal</th>\n",
              "      <th>Turning_Loop</th>\n",
              "      <th>Sunrise_Sunset</th>\n",
              "      <th>Civil_Twilight</th>\n",
              "      <th>Nautical_Twilight</th>\n",
              "      <th>Astronomical_Twilight</th>\n",
              "      <th>Start_Date</th>\n",
              "      <th>End_Date</th>\n",
              "      <th>Start_Hour</th>\n",
              "      <th>End_Hour</th>\n",
              "      <th>Start_Month</th>\n",
              "      <th>End_Month</th>\n",
              "      <th>Start_Day</th>\n",
              "    </tr>\n",
              "  </thead>\n",
              "  <tbody>\n",
              "    <tr>\n",
              "      <th>0</th>\n",
              "      <td>237351</td>\n",
              "      <td>A-2953957</td>\n",
              "      <td>2</td>\n",
              "      <td>20:52:00</td>\n",
              "      <td>22:17:27</td>\n",
              "      <td>43.119443</td>\n",
              "      <td>-75.293198</td>\n",
              "      <td>43.120291</td>\n",
              "      <td>-75.293547</td>\n",
              "      <td>0.061</td>\n",
              "      <td>Incident on ORISKANY BLVD near HOUSE 131 Expec...</td>\n",
              "      <td>102.0</td>\n",
              "      <td>Oriskany Blvd</td>\n",
              "      <td>R</td>\n",
              "      <td>Whitesboro</td>\n",
              "      <td>Oneida</td>\n",
              "      <td>NY</td>\n",
              "      <td>13492-1322</td>\n",
              "      <td>US</td>\n",
              "      <td>US/Eastern</td>\n",
              "      <td>KRME</td>\n",
              "      <td>2020-12-03 20:53:00</td>\n",
              "      <td>32.0</td>\n",
              "      <td>32.0</td>\n",
              "      <td>75.0</td>\n",
              "      <td>29.47</td>\n",
              "      <td>10.0</td>\n",
              "      <td>CALM</td>\n",
              "      <td>0.0</td>\n",
              "      <td>0.0</td>\n",
              "      <td>Fair</td>\n",
              "      <td>False</td>\n",
              "      <td>False</td>\n",
              "      <td>False</td>\n",
              "      <td>False</td>\n",
              "      <td>False</td>\n",
              "      <td>False</td>\n",
              "      <td>False</td>\n",
              "      <td>False</td>\n",
              "      <td>False</td>\n",
              "      <td>False</td>\n",
              "      <td>False</td>\n",
              "      <td>False</td>\n",
              "      <td>False</td>\n",
              "      <td>Night</td>\n",
              "      <td>Night</td>\n",
              "      <td>Night</td>\n",
              "      <td>Night</td>\n",
              "      <td>2020-12-03</td>\n",
              "      <td>2020-12-03</td>\n",
              "      <td>20</td>\n",
              "      <td>22</td>\n",
              "      <td>December</td>\n",
              "      <td>12</td>\n",
              "      <td>3</td>\n",
              "    </tr>\n",
              "    <tr>\n",
              "      <th>1</th>\n",
              "      <td>237362</td>\n",
              "      <td>A-2953968</td>\n",
              "      <td>2</td>\n",
              "      <td>23:19:55</td>\n",
              "      <td>23:41:46</td>\n",
              "      <td>40.834883</td>\n",
              "      <td>-73.866244</td>\n",
              "      <td>40.833773</td>\n",
              "      <td>-73.863254</td>\n",
              "      <td>0.174</td>\n",
              "      <td>Queuing traffic in White Plains Rd exit [5A] d...</td>\n",
              "      <td>NaN</td>\n",
              "      <td>Cross Bronx Expy E</td>\n",
              "      <td>R</td>\n",
              "      <td>Bronx</td>\n",
              "      <td>Bronx</td>\n",
              "      <td>NY</td>\n",
              "      <td>10460</td>\n",
              "      <td>US</td>\n",
              "      <td>US/Eastern</td>\n",
              "      <td>KLGA</td>\n",
              "      <td>2020-09-25 22:51:00</td>\n",
              "      <td>70.0</td>\n",
              "      <td>70.0</td>\n",
              "      <td>76.0</td>\n",
              "      <td>30.08</td>\n",
              "      <td>10.0</td>\n",
              "      <td>SSW</td>\n",
              "      <td>7.0</td>\n",
              "      <td>0.0</td>\n",
              "      <td>Mostly Cloudy</td>\n",
              "      <td>False</td>\n",
              "      <td>False</td>\n",
              "      <td>True</td>\n",
              "      <td>False</td>\n",
              "      <td>True</td>\n",
              "      <td>False</td>\n",
              "      <td>False</td>\n",
              "      <td>False</td>\n",
              "      <td>False</td>\n",
              "      <td>False</td>\n",
              "      <td>False</td>\n",
              "      <td>False</td>\n",
              "      <td>False</td>\n",
              "      <td>Night</td>\n",
              "      <td>Night</td>\n",
              "      <td>Night</td>\n",
              "      <td>Night</td>\n",
              "      <td>2020-09-25</td>\n",
              "      <td>2020-09-25</td>\n",
              "      <td>23</td>\n",
              "      <td>23</td>\n",
              "      <td>September</td>\n",
              "      <td>9</td>\n",
              "      <td>4</td>\n",
              "    </tr>\n",
              "    <tr>\n",
              "      <th>2</th>\n",
              "      <td>237365</td>\n",
              "      <td>A-2953971</td>\n",
              "      <td>2</td>\n",
              "      <td>12:17:30</td>\n",
              "      <td>03:44:00</td>\n",
              "      <td>40.802117</td>\n",
              "      <td>-73.916498</td>\n",
              "      <td>40.804907</td>\n",
              "      <td>-73.911238</td>\n",
              "      <td>0.336</td>\n",
              "      <td>Stationary traffic on I-278 from 31st St/Hoyt ...</td>\n",
              "      <td>NaN</td>\n",
              "      <td>Bruckner Expy E</td>\n",
              "      <td>R</td>\n",
              "      <td>Bronx</td>\n",
              "      <td>Bronx</td>\n",
              "      <td>NY</td>\n",
              "      <td>10454</td>\n",
              "      <td>US</td>\n",
              "      <td>US/Eastern</td>\n",
              "      <td>KLGA</td>\n",
              "      <td>2020-10-15 11:51:00</td>\n",
              "      <td>71.0</td>\n",
              "      <td>71.0</td>\n",
              "      <td>51.0</td>\n",
              "      <td>29.98</td>\n",
              "      <td>10.0</td>\n",
              "      <td>S</td>\n",
              "      <td>16.0</td>\n",
              "      <td>0.0</td>\n",
              "      <td>Fair</td>\n",
              "      <td>False</td>\n",
              "      <td>False</td>\n",
              "      <td>False</td>\n",
              "      <td>False</td>\n",
              "      <td>True</td>\n",
              "      <td>False</td>\n",
              "      <td>False</td>\n",
              "      <td>False</td>\n",
              "      <td>False</td>\n",
              "      <td>True</td>\n",
              "      <td>False</td>\n",
              "      <td>False</td>\n",
              "      <td>False</td>\n",
              "      <td>Day</td>\n",
              "      <td>Day</td>\n",
              "      <td>Day</td>\n",
              "      <td>Day</td>\n",
              "      <td>2020-10-15</td>\n",
              "      <td>2020-10-16</td>\n",
              "      <td>12</td>\n",
              "      <td>3</td>\n",
              "      <td>October</td>\n",
              "      <td>10</td>\n",
              "      <td>3</td>\n",
              "    </tr>\n",
              "    <tr>\n",
              "      <th>3</th>\n",
              "      <td>237402</td>\n",
              "      <td>A-2954008</td>\n",
              "      <td>2</td>\n",
              "      <td>02:58:56</td>\n",
              "      <td>04:40:33</td>\n",
              "      <td>43.073669</td>\n",
              "      <td>-78.990615</td>\n",
              "      <td>43.075229</td>\n",
              "      <td>-78.990615</td>\n",
              "      <td>0.108</td>\n",
              "      <td>Crash right lane blocked on I-190 - Niagara Th...</td>\n",
              "      <td>NaN</td>\n",
              "      <td>North Grand Island Bridge</td>\n",
              "      <td>R</td>\n",
              "      <td>Niagara Falls</td>\n",
              "      <td>Niagara</td>\n",
              "      <td>NY</td>\n",
              "      <td>14304</td>\n",
              "      <td>US</td>\n",
              "      <td>US/Eastern</td>\n",
              "      <td>KIAG</td>\n",
              "      <td>2020-10-03 02:53:00</td>\n",
              "      <td>43.0</td>\n",
              "      <td>43.0</td>\n",
              "      <td>97.0</td>\n",
              "      <td>29.52</td>\n",
              "      <td>10.0</td>\n",
              "      <td>CALM</td>\n",
              "      <td>0.0</td>\n",
              "      <td>0.0</td>\n",
              "      <td>Partly Cloudy</td>\n",
              "      <td>False</td>\n",
              "      <td>False</td>\n",
              "      <td>False</td>\n",
              "      <td>False</td>\n",
              "      <td>True</td>\n",
              "      <td>False</td>\n",
              "      <td>False</td>\n",
              "      <td>False</td>\n",
              "      <td>False</td>\n",
              "      <td>False</td>\n",
              "      <td>False</td>\n",
              "      <td>False</td>\n",
              "      <td>False</td>\n",
              "      <td>Night</td>\n",
              "      <td>Night</td>\n",
              "      <td>Night</td>\n",
              "      <td>Night</td>\n",
              "      <td>2020-10-03</td>\n",
              "      <td>2020-10-03</td>\n",
              "      <td>2</td>\n",
              "      <td>4</td>\n",
              "      <td>October</td>\n",
              "      <td>10</td>\n",
              "      <td>5</td>\n",
              "    </tr>\n",
              "    <tr>\n",
              "      <th>4</th>\n",
              "      <td>237423</td>\n",
              "      <td>A-2954030</td>\n",
              "      <td>2</td>\n",
              "      <td>13:19:55</td>\n",
              "      <td>15:24:11</td>\n",
              "      <td>41.308840</td>\n",
              "      <td>-74.025331</td>\n",
              "      <td>41.307460</td>\n",
              "      <td>-74.027961</td>\n",
              "      <td>0.167</td>\n",
              "      <td>Incident on PALISADES INTERSTATE PKWY SB near ...</td>\n",
              "      <td>NaN</td>\n",
              "      <td>Palisades Interstate Pkwy S</td>\n",
              "      <td>R</td>\n",
              "      <td>Fort Montgomery</td>\n",
              "      <td>Orange</td>\n",
              "      <td>NY</td>\n",
              "      <td>10922</td>\n",
              "      <td>US</td>\n",
              "      <td>US/Eastern</td>\n",
              "      <td>NaN</td>\n",
              "      <td>NaN</td>\n",
              "      <td>NaN</td>\n",
              "      <td>NaN</td>\n",
              "      <td>NaN</td>\n",
              "      <td>NaN</td>\n",
              "      <td>NaN</td>\n",
              "      <td>NaN</td>\n",
              "      <td>NaN</td>\n",
              "      <td>NaN</td>\n",
              "      <td>NaN</td>\n",
              "      <td>False</td>\n",
              "      <td>False</td>\n",
              "      <td>False</td>\n",
              "      <td>False</td>\n",
              "      <td>True</td>\n",
              "      <td>False</td>\n",
              "      <td>False</td>\n",
              "      <td>False</td>\n",
              "      <td>False</td>\n",
              "      <td>False</td>\n",
              "      <td>False</td>\n",
              "      <td>False</td>\n",
              "      <td>False</td>\n",
              "      <td>Day</td>\n",
              "      <td>Day</td>\n",
              "      <td>Day</td>\n",
              "      <td>Day</td>\n",
              "      <td>2020-09-17</td>\n",
              "      <td>2020-09-17</td>\n",
              "      <td>13</td>\n",
              "      <td>15</td>\n",
              "      <td>September</td>\n",
              "      <td>9</td>\n",
              "      <td>3</td>\n",
              "    </tr>\n",
              "  </tbody>\n",
              "</table>\n",
              "</div>"
            ],
            "text/plain": [
              "   Unnamed: 0         ID  Severity  ... Start_Month End_Month  Start_Day\n",
              "0      237351  A-2953957         2  ...    December        12          3\n",
              "1      237362  A-2953968         2  ...   September         9          4\n",
              "2      237365  A-2953971         2  ...     October        10          3\n",
              "3      237402  A-2954008         2  ...     October        10          5\n",
              "4      237423  A-2954030         2  ...   September         9          3\n",
              "\n",
              "[5 rows x 55 columns]"
            ]
          },
          "metadata": {},
          "execution_count": 71
        }
      ]
    }
  ]
}