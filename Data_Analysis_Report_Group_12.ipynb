{
  "nbformat": 4,
  "nbformat_minor": 5,
  "metadata": {
    "kernelspec": {
      "display_name": "Python 3",
      "language": "python",
      "name": "python3"
    },
    "language_info": {
      "codemirror_mode": {
        "name": "ipython",
        "version": 3
      },
      "file_extension": ".py",
      "mimetype": "text/x-python",
      "name": "python",
      "nbconvert_exporter": "python",
      "pygments_lexer": "ipython3",
      "version": "3.8.8"
    },
    "colab": {
      "name": "Data Analysis Report Group 12.ipynb",
      "provenance": [],
      "include_colab_link": true
    }
  },
  "cells": [
    {
      "cell_type": "markdown",
      "metadata": {
        "id": "view-in-github",
        "colab_type": "text"
      },
      "source": [
        "<a href=\"https://colab.research.google.com/github/bmatore/inft6201/blob/main/Data_Analysis_Report_Group_12.ipynb\" target=\"_parent\"><img src=\"https://colab.research.google.com/assets/colab-badge.svg\" alt=\"Open In Colab\"/></a>"
      ]
    },
    {
      "cell_type": "code",
      "metadata": {
        "id": "458d5b8a"
      },
      "source": [
        "import pandas as pd\n",
        "import numpy as np\n",
        "import matplotlib.pyplot as plt\n",
        "\n",
        "import seaborn as sns\n",
        "sns.set(rc={'figure.figsize':(11.7,8.27)})\n",
        "\n",
        "plt.rcParams.update({'font.size': 20}) # Increase fontsize"
      ],
      "id": "458d5b8a",
      "execution_count": 2,
      "outputs": []
    },
    {
      "cell_type": "code",
      "metadata": {
        "id": "rQamDmmEkBR8",
        "colab": {
          "base_uri": "https://localhost:8080/"
        },
        "outputId": "d51b4917-7c21-4598-99db-0f55bdc55bbe"
      },
      "source": [
        "from google.colab import drive\n",
        "drive.mount('/content/drive')"
      ],
      "id": "rQamDmmEkBR8",
      "execution_count": 4,
      "outputs": [
        {
          "output_type": "stream",
          "name": "stdout",
          "text": [
            "Mounted at /content/drive\n"
          ]
        }
      ]
    },
    {
      "cell_type": "code",
      "metadata": {
        "id": "a12a9b34"
      },
      "source": [
        "df_accidents = pd.read_csv(\"/content/drive/MyDrive/Colab Notebooks/ny_accidents.csv\", na_values='?')"
      ],
      "id": "a12a9b34",
      "execution_count": 22,
      "outputs": []
    },
    {
      "cell_type": "code",
      "metadata": {
        "id": "ZCXs7Bvi8yVi"
      },
      "source": [
        ""
      ],
      "id": "ZCXs7Bvi8yVi",
      "execution_count": null,
      "outputs": []
    },
    {
      "cell_type": "markdown",
      "metadata": {
        "id": "f9G-rD3w8zM_"
      },
      "source": [
        "Data Analysis"
      ],
      "id": "f9G-rD3w8zM_"
    },
    {
      "cell_type": "code",
      "metadata": {
        "colab": {
          "base_uri": "https://localhost:8080/"
        },
        "id": "Gt5VDN0Km9ra",
        "outputId": "b846992b-de7a-4b30-8f22-3473a33b8828"
      },
      "source": [
        "df_accidents.info()"
      ],
      "id": "Gt5VDN0Km9ra",
      "execution_count": 23,
      "outputs": [
        {
          "output_type": "stream",
          "name": "stdout",
          "text": [
            "<class 'pandas.core.frame.DataFrame'>\n",
            "RangeIndex: 39537 entries, 0 to 39536\n",
            "Data columns (total 48 columns):\n",
            " #   Column                 Non-Null Count  Dtype  \n",
            "---  ------                 --------------  -----  \n",
            " 0   Unnamed: 0             39537 non-null  int64  \n",
            " 1   ID                     39537 non-null  object \n",
            " 2   Severity               39537 non-null  int64  \n",
            " 3   Start_Time             39537 non-null  object \n",
            " 4   End_Time               39537 non-null  object \n",
            " 5   Start_Lat              39537 non-null  float64\n",
            " 6   Start_Lng              39537 non-null  float64\n",
            " 7   End_Lat                39537 non-null  float64\n",
            " 8   End_Lng                39537 non-null  float64\n",
            " 9   Distance.mi.           39537 non-null  float64\n",
            " 10  Description            39537 non-null  object \n",
            " 11  Number                 11845 non-null  float64\n",
            " 12  Street                 39537 non-null  object \n",
            " 13  Side                   39537 non-null  object \n",
            " 14  City                   39529 non-null  object \n",
            " 15  County                 39537 non-null  object \n",
            " 16  State                  39537 non-null  object \n",
            " 17  Zipcode                39537 non-null  object \n",
            " 18  Country                39537 non-null  object \n",
            " 19  Timezone               39537 non-null  object \n",
            " 20  Airport_Code           39471 non-null  object \n",
            " 21  Weather_Timestamp      39225 non-null  object \n",
            " 22  Temperature.F.         39147 non-null  float64\n",
            " 23  Wind_Chill.F.          38074 non-null  float64\n",
            " 24  Humidity...            39137 non-null  float64\n",
            " 25  Pressure.in.           39162 non-null  float64\n",
            " 26  Visibility.mi.         39131 non-null  float64\n",
            " 27  Wind_Direction         38598 non-null  object \n",
            " 28  Wind_Speed.mph.        38349 non-null  float64\n",
            " 29  Precipitation.in.      37594 non-null  float64\n",
            " 30  Weather_Condition      39194 non-null  object \n",
            " 31  Amenity                39537 non-null  bool   \n",
            " 32  Bump                   39537 non-null  bool   \n",
            " 33  Crossing               39537 non-null  bool   \n",
            " 34  Give_Way               39537 non-null  bool   \n",
            " 35  Junction               39537 non-null  bool   \n",
            " 36  No_Exit                39537 non-null  bool   \n",
            " 37  Railway                39537 non-null  bool   \n",
            " 38  Roundabout             39537 non-null  bool   \n",
            " 39  Station                39537 non-null  bool   \n",
            " 40  Stop                   39537 non-null  bool   \n",
            " 41  Traffic_Calming        39537 non-null  bool   \n",
            " 42  Traffic_Signal         39537 non-null  bool   \n",
            " 43  Turning_Loop           39537 non-null  bool   \n",
            " 44  Sunrise_Sunset         39529 non-null  object \n",
            " 45  Civil_Twilight         39529 non-null  object \n",
            " 46  Nautical_Twilight      39529 non-null  object \n",
            " 47  Astronomical_Twilight  39529 non-null  object \n",
            "dtypes: bool(13), float64(13), int64(2), object(20)\n",
            "memory usage: 11.0+ MB\n"
          ]
        }
      ]
    },
    {
      "cell_type": "code",
      "metadata": {
        "colab": {
          "base_uri": "https://localhost:8080/",
          "height": 317
        },
        "id": "FWBkrFLMnJCI",
        "outputId": "d6ac11ba-41d2-43f9-9a22-7a7b2d69b1c6"
      },
      "source": [
        "df_accidents.describe()"
      ],
      "id": "FWBkrFLMnJCI",
      "execution_count": 24,
      "outputs": [
        {
          "output_type": "execute_result",
          "data": {
            "text/html": [
              "<div>\n",
              "<style scoped>\n",
              "    .dataframe tbody tr th:only-of-type {\n",
              "        vertical-align: middle;\n",
              "    }\n",
              "\n",
              "    .dataframe tbody tr th {\n",
              "        vertical-align: top;\n",
              "    }\n",
              "\n",
              "    .dataframe thead th {\n",
              "        text-align: right;\n",
              "    }\n",
              "</style>\n",
              "<table border=\"1\" class=\"dataframe\">\n",
              "  <thead>\n",
              "    <tr style=\"text-align: right;\">\n",
              "      <th></th>\n",
              "      <th>Unnamed: 0</th>\n",
              "      <th>Severity</th>\n",
              "      <th>Start_Lat</th>\n",
              "      <th>Start_Lng</th>\n",
              "      <th>End_Lat</th>\n",
              "      <th>End_Lng</th>\n",
              "      <th>Distance.mi.</th>\n",
              "      <th>Number</th>\n",
              "      <th>Temperature.F.</th>\n",
              "      <th>Wind_Chill.F.</th>\n",
              "      <th>Humidity...</th>\n",
              "      <th>Pressure.in.</th>\n",
              "      <th>Visibility.mi.</th>\n",
              "      <th>Wind_Speed.mph.</th>\n",
              "      <th>Precipitation.in.</th>\n",
              "    </tr>\n",
              "  </thead>\n",
              "  <tbody>\n",
              "    <tr>\n",
              "      <th>count</th>\n",
              "      <td>3.953700e+04</td>\n",
              "      <td>39537.000000</td>\n",
              "      <td>39537.000000</td>\n",
              "      <td>39537.000000</td>\n",
              "      <td>39537.000000</td>\n",
              "      <td>39537.000000</td>\n",
              "      <td>39537.000000</td>\n",
              "      <td>11845.000000</td>\n",
              "      <td>39147.000000</td>\n",
              "      <td>38074.000000</td>\n",
              "      <td>39137.000000</td>\n",
              "      <td>39162.000000</td>\n",
              "      <td>39131.000000</td>\n",
              "      <td>38349.000000</td>\n",
              "      <td>37594.000000</td>\n",
              "    </tr>\n",
              "    <tr>\n",
              "      <th>mean</th>\n",
              "      <td>7.543609e+05</td>\n",
              "      <td>2.282900</td>\n",
              "      <td>41.714567</td>\n",
              "      <td>-74.806364</td>\n",
              "      <td>41.715110</td>\n",
              "      <td>-74.806824</td>\n",
              "      <td>0.654307</td>\n",
              "      <td>2133.770030</td>\n",
              "      <td>51.915442</td>\n",
              "      <td>49.177806</td>\n",
              "      <td>65.716253</td>\n",
              "      <td>29.713701</td>\n",
              "      <td>9.040011</td>\n",
              "      <td>9.132535</td>\n",
              "      <td>0.005389</td>\n",
              "    </tr>\n",
              "    <tr>\n",
              "      <th>std</th>\n",
              "      <td>3.307301e+05</td>\n",
              "      <td>0.642619</td>\n",
              "      <td>1.065492</td>\n",
              "      <td>1.685198</td>\n",
              "      <td>1.065188</td>\n",
              "      <td>1.685823</td>\n",
              "      <td>1.551176</td>\n",
              "      <td>3428.535678</td>\n",
              "      <td>16.787521</td>\n",
              "      <td>19.667776</td>\n",
              "      <td>20.599997</td>\n",
              "      <td>0.399174</td>\n",
              "      <td>2.668705</td>\n",
              "      <td>5.870588</td>\n",
              "      <td>0.027952</td>\n",
              "    </tr>\n",
              "    <tr>\n",
              "      <th>min</th>\n",
              "      <td>2.373510e+05</td>\n",
              "      <td>1.000000</td>\n",
              "      <td>40.523980</td>\n",
              "      <td>-79.748951</td>\n",
              "      <td>40.524638</td>\n",
              "      <td>-79.761920</td>\n",
              "      <td>0.000000</td>\n",
              "      <td>1.000000</td>\n",
              "      <td>-12.000000</td>\n",
              "      <td>-30.400000</td>\n",
              "      <td>13.000000</td>\n",
              "      <td>27.550000</td>\n",
              "      <td>0.000000</td>\n",
              "      <td>0.000000</td>\n",
              "      <td>0.000000</td>\n",
              "    </tr>\n",
              "    <tr>\n",
              "      <th>25%</th>\n",
              "      <td>4.998200e+05</td>\n",
              "      <td>2.000000</td>\n",
              "      <td>40.772600</td>\n",
              "      <td>-76.049410</td>\n",
              "      <td>40.774311</td>\n",
              "      <td>-76.047636</td>\n",
              "      <td>0.000000</td>\n",
              "      <td>215.000000</td>\n",
              "      <td>39.900000</td>\n",
              "      <td>34.000000</td>\n",
              "      <td>49.000000</td>\n",
              "      <td>29.470000</td>\n",
              "      <td>10.000000</td>\n",
              "      <td>5.000000</td>\n",
              "      <td>0.000000</td>\n",
              "    </tr>\n",
              "    <tr>\n",
              "      <th>50%</th>\n",
              "      <td>7.266940e+05</td>\n",
              "      <td>2.000000</td>\n",
              "      <td>41.065783</td>\n",
              "      <td>-73.929060</td>\n",
              "      <td>41.068520</td>\n",
              "      <td>-73.929030</td>\n",
              "      <td>0.192000</td>\n",
              "      <td>857.000000</td>\n",
              "      <td>51.000000</td>\n",
              "      <td>51.000000</td>\n",
              "      <td>67.000000</td>\n",
              "      <td>29.740000</td>\n",
              "      <td>10.000000</td>\n",
              "      <td>8.000000</td>\n",
              "      <td>0.000000</td>\n",
              "    </tr>\n",
              "    <tr>\n",
              "      <th>75%</th>\n",
              "      <td>9.178200e+05</td>\n",
              "      <td>2.000000</td>\n",
              "      <td>42.989290</td>\n",
              "      <td>-73.781207</td>\n",
              "      <td>42.987950</td>\n",
              "      <td>-73.781337</td>\n",
              "      <td>0.687000</td>\n",
              "      <td>2451.000000</td>\n",
              "      <td>65.000000</td>\n",
              "      <td>65.000000</td>\n",
              "      <td>84.000000</td>\n",
              "      <td>29.990000</td>\n",
              "      <td>10.000000</td>\n",
              "      <td>13.000000</td>\n",
              "      <td>0.000000</td>\n",
              "    </tr>\n",
              "    <tr>\n",
              "      <th>max</th>\n",
              "      <td>1.515693e+06</td>\n",
              "      <td>4.000000</td>\n",
              "      <td>44.917460</td>\n",
              "      <td>-71.943680</td>\n",
              "      <td>44.981057</td>\n",
              "      <td>-71.943680</td>\n",
              "      <td>49.240000</td>\n",
              "      <td>52027.000000</td>\n",
              "      <td>96.000000</td>\n",
              "      <td>96.000000</td>\n",
              "      <td>100.000000</td>\n",
              "      <td>30.710000</td>\n",
              "      <td>20.000000</td>\n",
              "      <td>40.000000</td>\n",
              "      <td>0.830000</td>\n",
              "    </tr>\n",
              "  </tbody>\n",
              "</table>\n",
              "</div>"
            ],
            "text/plain": [
              "         Unnamed: 0      Severity  ...  Wind_Speed.mph.  Precipitation.in.\n",
              "count  3.953700e+04  39537.000000  ...     38349.000000       37594.000000\n",
              "mean   7.543609e+05      2.282900  ...         9.132535           0.005389\n",
              "std    3.307301e+05      0.642619  ...         5.870588           0.027952\n",
              "min    2.373510e+05      1.000000  ...         0.000000           0.000000\n",
              "25%    4.998200e+05      2.000000  ...         5.000000           0.000000\n",
              "50%    7.266940e+05      2.000000  ...         8.000000           0.000000\n",
              "75%    9.178200e+05      2.000000  ...        13.000000           0.000000\n",
              "max    1.515693e+06      4.000000  ...        40.000000           0.830000\n",
              "\n",
              "[8 rows x 15 columns]"
            ]
          },
          "metadata": {},
          "execution_count": 24
        }
      ]
    },
    {
      "cell_type": "code",
      "metadata": {
        "colab": {
          "base_uri": "https://localhost:8080/"
        },
        "id": "ewlXPPSVCSCD",
        "outputId": "4911db9b-e951-48d5-9043-3932e52cc171"
      },
      "source": [
        "df_accidents.shape"
      ],
      "id": "ewlXPPSVCSCD",
      "execution_count": 25,
      "outputs": [
        {
          "output_type": "execute_result",
          "data": {
            "text/plain": [
              "(39537, 48)"
            ]
          },
          "metadata": {},
          "execution_count": 25
        }
      ]
    },
    {
      "cell_type": "code",
      "metadata": {
        "colab": {
          "base_uri": "https://localhost:8080/"
        },
        "id": "5vnQXsBU583U",
        "outputId": "b4be663f-e656-46b9-ef03-4f966d908a50"
      },
      "source": [
        "df_accidents.isnull().sum()"
      ],
      "id": "5vnQXsBU583U",
      "execution_count": 26,
      "outputs": [
        {
          "output_type": "execute_result",
          "data": {
            "text/plain": [
              "Unnamed: 0                   0\n",
              "ID                           0\n",
              "Severity                     0\n",
              "Start_Time                   0\n",
              "End_Time                     0\n",
              "Start_Lat                    0\n",
              "Start_Lng                    0\n",
              "End_Lat                      0\n",
              "End_Lng                      0\n",
              "Distance.mi.                 0\n",
              "Description                  0\n",
              "Number                   27692\n",
              "Street                       0\n",
              "Side                         0\n",
              "City                         8\n",
              "County                       0\n",
              "State                        0\n",
              "Zipcode                      0\n",
              "Country                      0\n",
              "Timezone                     0\n",
              "Airport_Code                66\n",
              "Weather_Timestamp          312\n",
              "Temperature.F.             390\n",
              "Wind_Chill.F.             1463\n",
              "Humidity...                400\n",
              "Pressure.in.               375\n",
              "Visibility.mi.             406\n",
              "Wind_Direction             939\n",
              "Wind_Speed.mph.           1188\n",
              "Precipitation.in.         1943\n",
              "Weather_Condition          343\n",
              "Amenity                      0\n",
              "Bump                         0\n",
              "Crossing                     0\n",
              "Give_Way                     0\n",
              "Junction                     0\n",
              "No_Exit                      0\n",
              "Railway                      0\n",
              "Roundabout                   0\n",
              "Station                      0\n",
              "Stop                         0\n",
              "Traffic_Calming              0\n",
              "Traffic_Signal               0\n",
              "Turning_Loop                 0\n",
              "Sunrise_Sunset               8\n",
              "Civil_Twilight               8\n",
              "Nautical_Twilight            8\n",
              "Astronomical_Twilight        8\n",
              "dtype: int64"
            ]
          },
          "metadata": {},
          "execution_count": 26
        }
      ]
    },
    {
      "cell_type": "code",
      "metadata": {
        "id": "WVzdNZ6bCgH0"
      },
      "source": [
        "#df_accidents = df_accidents.dropna()"
      ],
      "id": "WVzdNZ6bCgH0",
      "execution_count": 20,
      "outputs": []
    },
    {
      "cell_type": "code",
      "metadata": {
        "colab": {
          "base_uri": "https://localhost:8080/"
        },
        "id": "4PdXYHUpCl6_",
        "outputId": "00b985ca-343e-4980-90c8-79ec9745a47d"
      },
      "source": [
        "df_accidents.shape"
      ],
      "id": "4PdXYHUpCl6_",
      "execution_count": 27,
      "outputs": [
        {
          "output_type": "execute_result",
          "data": {
            "text/plain": [
              "(39537, 48)"
            ]
          },
          "metadata": {},
          "execution_count": 27
        }
      ]
    },
    {
      "cell_type": "code",
      "metadata": {
        "id": "OL0RcbbIC-iW"
      },
      "source": [
        "#seperate Start Date and End Date into Date and Time fields\n",
        "df_accidents['Start_Date'] = pd.to_datetime(df_accidents['Start_Time']).dt.date\n",
        "df_accidents['Start_Time'] = pd.to_datetime(df_accidents['Start_Time']).dt.time\n",
        "df_accidents['End_Date'] = pd.to_datetime(df_accidents['End_Time']).dt.date\n",
        "df_accidents['End_Time'] = pd.to_datetime(df_accidents['End_Time']).dt.time"
      ],
      "id": "OL0RcbbIC-iW",
      "execution_count": 29,
      "outputs": []
    },
    {
      "cell_type": "code",
      "metadata": {
        "colab": {
          "base_uri": "https://localhost:8080/",
          "height": 564
        },
        "id": "cYU10h8ww-YM",
        "outputId": "243f03d4-716e-4cfe-ee7a-37f011169678"
      },
      "source": [
        "df_accidents.head(5)"
      ],
      "id": "cYU10h8ww-YM",
      "execution_count": 30,
      "outputs": [
        {
          "output_type": "execute_result",
          "data": {
            "text/html": [
              "<div>\n",
              "<style scoped>\n",
              "    .dataframe tbody tr th:only-of-type {\n",
              "        vertical-align: middle;\n",
              "    }\n",
              "\n",
              "    .dataframe tbody tr th {\n",
              "        vertical-align: top;\n",
              "    }\n",
              "\n",
              "    .dataframe thead th {\n",
              "        text-align: right;\n",
              "    }\n",
              "</style>\n",
              "<table border=\"1\" class=\"dataframe\">\n",
              "  <thead>\n",
              "    <tr style=\"text-align: right;\">\n",
              "      <th></th>\n",
              "      <th>Unnamed: 0</th>\n",
              "      <th>ID</th>\n",
              "      <th>Severity</th>\n",
              "      <th>Start_Time</th>\n",
              "      <th>End_Time</th>\n",
              "      <th>Start_Lat</th>\n",
              "      <th>Start_Lng</th>\n",
              "      <th>End_Lat</th>\n",
              "      <th>End_Lng</th>\n",
              "      <th>Distance.mi.</th>\n",
              "      <th>Description</th>\n",
              "      <th>Number</th>\n",
              "      <th>Street</th>\n",
              "      <th>Side</th>\n",
              "      <th>City</th>\n",
              "      <th>County</th>\n",
              "      <th>State</th>\n",
              "      <th>Zipcode</th>\n",
              "      <th>Country</th>\n",
              "      <th>Timezone</th>\n",
              "      <th>Airport_Code</th>\n",
              "      <th>Weather_Timestamp</th>\n",
              "      <th>Temperature.F.</th>\n",
              "      <th>Wind_Chill.F.</th>\n",
              "      <th>Humidity...</th>\n",
              "      <th>Pressure.in.</th>\n",
              "      <th>Visibility.mi.</th>\n",
              "      <th>Wind_Direction</th>\n",
              "      <th>Wind_Speed.mph.</th>\n",
              "      <th>Precipitation.in.</th>\n",
              "      <th>Weather_Condition</th>\n",
              "      <th>Amenity</th>\n",
              "      <th>Bump</th>\n",
              "      <th>Crossing</th>\n",
              "      <th>Give_Way</th>\n",
              "      <th>Junction</th>\n",
              "      <th>No_Exit</th>\n",
              "      <th>Railway</th>\n",
              "      <th>Roundabout</th>\n",
              "      <th>Station</th>\n",
              "      <th>Stop</th>\n",
              "      <th>Traffic_Calming</th>\n",
              "      <th>Traffic_Signal</th>\n",
              "      <th>Turning_Loop</th>\n",
              "      <th>Sunrise_Sunset</th>\n",
              "      <th>Civil_Twilight</th>\n",
              "      <th>Nautical_Twilight</th>\n",
              "      <th>Astronomical_Twilight</th>\n",
              "      <th>Start_Date</th>\n",
              "      <th>End_Date</th>\n",
              "    </tr>\n",
              "  </thead>\n",
              "  <tbody>\n",
              "    <tr>\n",
              "      <th>0</th>\n",
              "      <td>237351</td>\n",
              "      <td>A-2953957</td>\n",
              "      <td>2</td>\n",
              "      <td>20:52:00</td>\n",
              "      <td>22:17:27</td>\n",
              "      <td>43.119443</td>\n",
              "      <td>-75.293198</td>\n",
              "      <td>43.120291</td>\n",
              "      <td>-75.293547</td>\n",
              "      <td>0.061</td>\n",
              "      <td>Incident on ORISKANY BLVD near HOUSE 131 Expec...</td>\n",
              "      <td>102.0</td>\n",
              "      <td>Oriskany Blvd</td>\n",
              "      <td>R</td>\n",
              "      <td>Whitesboro</td>\n",
              "      <td>Oneida</td>\n",
              "      <td>NY</td>\n",
              "      <td>13492-1322</td>\n",
              "      <td>US</td>\n",
              "      <td>US/Eastern</td>\n",
              "      <td>KRME</td>\n",
              "      <td>2020-12-03 20:53:00</td>\n",
              "      <td>32.0</td>\n",
              "      <td>32.0</td>\n",
              "      <td>75.0</td>\n",
              "      <td>29.47</td>\n",
              "      <td>10.0</td>\n",
              "      <td>CALM</td>\n",
              "      <td>0.0</td>\n",
              "      <td>0.0</td>\n",
              "      <td>Fair</td>\n",
              "      <td>False</td>\n",
              "      <td>False</td>\n",
              "      <td>False</td>\n",
              "      <td>False</td>\n",
              "      <td>False</td>\n",
              "      <td>False</td>\n",
              "      <td>False</td>\n",
              "      <td>False</td>\n",
              "      <td>False</td>\n",
              "      <td>False</td>\n",
              "      <td>False</td>\n",
              "      <td>False</td>\n",
              "      <td>False</td>\n",
              "      <td>Night</td>\n",
              "      <td>Night</td>\n",
              "      <td>Night</td>\n",
              "      <td>Night</td>\n",
              "      <td>2020-12-03</td>\n",
              "      <td>2020-12-03</td>\n",
              "    </tr>\n",
              "    <tr>\n",
              "      <th>1</th>\n",
              "      <td>237362</td>\n",
              "      <td>A-2953968</td>\n",
              "      <td>2</td>\n",
              "      <td>23:19:55</td>\n",
              "      <td>23:41:46</td>\n",
              "      <td>40.834883</td>\n",
              "      <td>-73.866244</td>\n",
              "      <td>40.833773</td>\n",
              "      <td>-73.863254</td>\n",
              "      <td>0.174</td>\n",
              "      <td>Queuing traffic in White Plains Rd exit [5A] d...</td>\n",
              "      <td>NaN</td>\n",
              "      <td>Cross Bronx Expy E</td>\n",
              "      <td>R</td>\n",
              "      <td>Bronx</td>\n",
              "      <td>Bronx</td>\n",
              "      <td>NY</td>\n",
              "      <td>10460</td>\n",
              "      <td>US</td>\n",
              "      <td>US/Eastern</td>\n",
              "      <td>KLGA</td>\n",
              "      <td>2020-09-25 22:51:00</td>\n",
              "      <td>70.0</td>\n",
              "      <td>70.0</td>\n",
              "      <td>76.0</td>\n",
              "      <td>30.08</td>\n",
              "      <td>10.0</td>\n",
              "      <td>SSW</td>\n",
              "      <td>7.0</td>\n",
              "      <td>0.0</td>\n",
              "      <td>Mostly Cloudy</td>\n",
              "      <td>False</td>\n",
              "      <td>False</td>\n",
              "      <td>True</td>\n",
              "      <td>False</td>\n",
              "      <td>True</td>\n",
              "      <td>False</td>\n",
              "      <td>False</td>\n",
              "      <td>False</td>\n",
              "      <td>False</td>\n",
              "      <td>False</td>\n",
              "      <td>False</td>\n",
              "      <td>False</td>\n",
              "      <td>False</td>\n",
              "      <td>Night</td>\n",
              "      <td>Night</td>\n",
              "      <td>Night</td>\n",
              "      <td>Night</td>\n",
              "      <td>2020-09-25</td>\n",
              "      <td>2020-09-25</td>\n",
              "    </tr>\n",
              "    <tr>\n",
              "      <th>2</th>\n",
              "      <td>237365</td>\n",
              "      <td>A-2953971</td>\n",
              "      <td>2</td>\n",
              "      <td>12:17:30</td>\n",
              "      <td>03:44:00</td>\n",
              "      <td>40.802117</td>\n",
              "      <td>-73.916498</td>\n",
              "      <td>40.804907</td>\n",
              "      <td>-73.911238</td>\n",
              "      <td>0.336</td>\n",
              "      <td>Stationary traffic on I-278 from 31st St/Hoyt ...</td>\n",
              "      <td>NaN</td>\n",
              "      <td>Bruckner Expy E</td>\n",
              "      <td>R</td>\n",
              "      <td>Bronx</td>\n",
              "      <td>Bronx</td>\n",
              "      <td>NY</td>\n",
              "      <td>10454</td>\n",
              "      <td>US</td>\n",
              "      <td>US/Eastern</td>\n",
              "      <td>KLGA</td>\n",
              "      <td>2020-10-15 11:51:00</td>\n",
              "      <td>71.0</td>\n",
              "      <td>71.0</td>\n",
              "      <td>51.0</td>\n",
              "      <td>29.98</td>\n",
              "      <td>10.0</td>\n",
              "      <td>S</td>\n",
              "      <td>16.0</td>\n",
              "      <td>0.0</td>\n",
              "      <td>Fair</td>\n",
              "      <td>False</td>\n",
              "      <td>False</td>\n",
              "      <td>False</td>\n",
              "      <td>False</td>\n",
              "      <td>True</td>\n",
              "      <td>False</td>\n",
              "      <td>False</td>\n",
              "      <td>False</td>\n",
              "      <td>False</td>\n",
              "      <td>True</td>\n",
              "      <td>False</td>\n",
              "      <td>False</td>\n",
              "      <td>False</td>\n",
              "      <td>Day</td>\n",
              "      <td>Day</td>\n",
              "      <td>Day</td>\n",
              "      <td>Day</td>\n",
              "      <td>2020-10-15</td>\n",
              "      <td>2020-10-16</td>\n",
              "    </tr>\n",
              "    <tr>\n",
              "      <th>3</th>\n",
              "      <td>237402</td>\n",
              "      <td>A-2954008</td>\n",
              "      <td>2</td>\n",
              "      <td>02:58:56</td>\n",
              "      <td>04:40:33</td>\n",
              "      <td>43.073669</td>\n",
              "      <td>-78.990615</td>\n",
              "      <td>43.075229</td>\n",
              "      <td>-78.990615</td>\n",
              "      <td>0.108</td>\n",
              "      <td>Crash right lane blocked on I-190 - Niagara Th...</td>\n",
              "      <td>NaN</td>\n",
              "      <td>North Grand Island Bridge</td>\n",
              "      <td>R</td>\n",
              "      <td>Niagara Falls</td>\n",
              "      <td>Niagara</td>\n",
              "      <td>NY</td>\n",
              "      <td>14304</td>\n",
              "      <td>US</td>\n",
              "      <td>US/Eastern</td>\n",
              "      <td>KIAG</td>\n",
              "      <td>2020-10-03 02:53:00</td>\n",
              "      <td>43.0</td>\n",
              "      <td>43.0</td>\n",
              "      <td>97.0</td>\n",
              "      <td>29.52</td>\n",
              "      <td>10.0</td>\n",
              "      <td>CALM</td>\n",
              "      <td>0.0</td>\n",
              "      <td>0.0</td>\n",
              "      <td>Partly Cloudy</td>\n",
              "      <td>False</td>\n",
              "      <td>False</td>\n",
              "      <td>False</td>\n",
              "      <td>False</td>\n",
              "      <td>True</td>\n",
              "      <td>False</td>\n",
              "      <td>False</td>\n",
              "      <td>False</td>\n",
              "      <td>False</td>\n",
              "      <td>False</td>\n",
              "      <td>False</td>\n",
              "      <td>False</td>\n",
              "      <td>False</td>\n",
              "      <td>Night</td>\n",
              "      <td>Night</td>\n",
              "      <td>Night</td>\n",
              "      <td>Night</td>\n",
              "      <td>2020-10-03</td>\n",
              "      <td>2020-10-03</td>\n",
              "    </tr>\n",
              "    <tr>\n",
              "      <th>4</th>\n",
              "      <td>237423</td>\n",
              "      <td>A-2954030</td>\n",
              "      <td>2</td>\n",
              "      <td>13:19:55</td>\n",
              "      <td>15:24:11</td>\n",
              "      <td>41.308840</td>\n",
              "      <td>-74.025331</td>\n",
              "      <td>41.307460</td>\n",
              "      <td>-74.027961</td>\n",
              "      <td>0.167</td>\n",
              "      <td>Incident on PALISADES INTERSTATE PKWY SB near ...</td>\n",
              "      <td>NaN</td>\n",
              "      <td>Palisades Interstate Pkwy S</td>\n",
              "      <td>R</td>\n",
              "      <td>Fort Montgomery</td>\n",
              "      <td>Orange</td>\n",
              "      <td>NY</td>\n",
              "      <td>10922</td>\n",
              "      <td>US</td>\n",
              "      <td>US/Eastern</td>\n",
              "      <td>NaN</td>\n",
              "      <td>NaN</td>\n",
              "      <td>NaN</td>\n",
              "      <td>NaN</td>\n",
              "      <td>NaN</td>\n",
              "      <td>NaN</td>\n",
              "      <td>NaN</td>\n",
              "      <td>NaN</td>\n",
              "      <td>NaN</td>\n",
              "      <td>NaN</td>\n",
              "      <td>NaN</td>\n",
              "      <td>False</td>\n",
              "      <td>False</td>\n",
              "      <td>False</td>\n",
              "      <td>False</td>\n",
              "      <td>True</td>\n",
              "      <td>False</td>\n",
              "      <td>False</td>\n",
              "      <td>False</td>\n",
              "      <td>False</td>\n",
              "      <td>False</td>\n",
              "      <td>False</td>\n",
              "      <td>False</td>\n",
              "      <td>False</td>\n",
              "      <td>Day</td>\n",
              "      <td>Day</td>\n",
              "      <td>Day</td>\n",
              "      <td>Day</td>\n",
              "      <td>2020-09-17</td>\n",
              "      <td>2020-09-17</td>\n",
              "    </tr>\n",
              "  </tbody>\n",
              "</table>\n",
              "</div>"
            ],
            "text/plain": [
              "   Unnamed: 0         ID  ...  Start_Date    End_Date\n",
              "0      237351  A-2953957  ...  2020-12-03  2020-12-03\n",
              "1      237362  A-2953968  ...  2020-09-25  2020-09-25\n",
              "2      237365  A-2953971  ...  2020-10-15  2020-10-16\n",
              "3      237402  A-2954008  ...  2020-10-03  2020-10-03\n",
              "4      237423  A-2954030  ...  2020-09-17  2020-09-17\n",
              "\n",
              "[5 rows x 50 columns]"
            ]
          },
          "metadata": {},
          "execution_count": 30
        }
      ]
    },
    {
      "cell_type": "code",
      "metadata": {
        "id": "vkh9LAJCZX_l"
      },
      "source": [
        "df_accidents['Start_Hour'] = pd.to_datetime(df_accidents['Start_Time'], format='%H:%M:%S').dt.hour\n",
        "df_accidents['End_Hour'] = pd.to_datetime(df_accidents['End_Time'], format='%H:%M:%S').dt.hour"
      ],
      "id": "vkh9LAJCZX_l",
      "execution_count": 31,
      "outputs": []
    },
    {
      "cell_type": "code",
      "metadata": {
        "id": "ppBpCV1q0Zjy"
      },
      "source": [
        "df_accidents['Start_Month'] = pd.to_datetime(df_accidents['Start_Date']).dt.month\n",
        "df_accidents['End_Month'] = pd.to_datetime(df_accidents['End_Date']).dt.month"
      ],
      "id": "ppBpCV1q0Zjy",
      "execution_count": 34,
      "outputs": []
    },
    {
      "cell_type": "code",
      "metadata": {
        "colab": {
          "base_uri": "https://localhost:8080/"
        },
        "id": "M5shfEOT0rx9",
        "outputId": "35e21ef8-9fea-4e07-9dd0-df92b531b402"
      },
      "source": [
        "df_accidents['City'].nunique()"
      ],
      "id": "M5shfEOT0rx9",
      "execution_count": 41,
      "outputs": [
        {
          "output_type": "execute_result",
          "data": {
            "text/plain": [
              "830"
            ]
          },
          "metadata": {},
          "execution_count": 41
        }
      ]
    },
    {
      "cell_type": "code",
      "metadata": {
        "colab": {
          "base_uri": "https://localhost:8080/",
          "height": 284
        },
        "id": "OdxzhCGEIa6Q",
        "outputId": "538b9660-2898-477b-8869-0aea3e8448c4"
      },
      "source": [
        "df_accidents.head(2)"
      ],
      "id": "OdxzhCGEIa6Q",
      "execution_count": 32,
      "outputs": [
        {
          "output_type": "execute_result",
          "data": {
            "text/html": [
              "<div>\n",
              "<style scoped>\n",
              "    .dataframe tbody tr th:only-of-type {\n",
              "        vertical-align: middle;\n",
              "    }\n",
              "\n",
              "    .dataframe tbody tr th {\n",
              "        vertical-align: top;\n",
              "    }\n",
              "\n",
              "    .dataframe thead th {\n",
              "        text-align: right;\n",
              "    }\n",
              "</style>\n",
              "<table border=\"1\" class=\"dataframe\">\n",
              "  <thead>\n",
              "    <tr style=\"text-align: right;\">\n",
              "      <th></th>\n",
              "      <th>Unnamed: 0</th>\n",
              "      <th>ID</th>\n",
              "      <th>Severity</th>\n",
              "      <th>Start_Time</th>\n",
              "      <th>End_Time</th>\n",
              "      <th>Start_Lat</th>\n",
              "      <th>Start_Lng</th>\n",
              "      <th>End_Lat</th>\n",
              "      <th>End_Lng</th>\n",
              "      <th>Distance.mi.</th>\n",
              "      <th>Description</th>\n",
              "      <th>Number</th>\n",
              "      <th>Street</th>\n",
              "      <th>Side</th>\n",
              "      <th>City</th>\n",
              "      <th>County</th>\n",
              "      <th>State</th>\n",
              "      <th>Zipcode</th>\n",
              "      <th>Country</th>\n",
              "      <th>Timezone</th>\n",
              "      <th>Airport_Code</th>\n",
              "      <th>Weather_Timestamp</th>\n",
              "      <th>Temperature.F.</th>\n",
              "      <th>Wind_Chill.F.</th>\n",
              "      <th>Humidity...</th>\n",
              "      <th>Pressure.in.</th>\n",
              "      <th>Visibility.mi.</th>\n",
              "      <th>Wind_Direction</th>\n",
              "      <th>Wind_Speed.mph.</th>\n",
              "      <th>Precipitation.in.</th>\n",
              "      <th>Weather_Condition</th>\n",
              "      <th>Amenity</th>\n",
              "      <th>Bump</th>\n",
              "      <th>Crossing</th>\n",
              "      <th>Give_Way</th>\n",
              "      <th>Junction</th>\n",
              "      <th>No_Exit</th>\n",
              "      <th>Railway</th>\n",
              "      <th>Roundabout</th>\n",
              "      <th>Station</th>\n",
              "      <th>Stop</th>\n",
              "      <th>Traffic_Calming</th>\n",
              "      <th>Traffic_Signal</th>\n",
              "      <th>Turning_Loop</th>\n",
              "      <th>Sunrise_Sunset</th>\n",
              "      <th>Civil_Twilight</th>\n",
              "      <th>Nautical_Twilight</th>\n",
              "      <th>Astronomical_Twilight</th>\n",
              "      <th>Start_Date</th>\n",
              "      <th>End_Date</th>\n",
              "      <th>Start_Hour</th>\n",
              "      <th>End_Hour</th>\n",
              "    </tr>\n",
              "  </thead>\n",
              "  <tbody>\n",
              "    <tr>\n",
              "      <th>0</th>\n",
              "      <td>237351</td>\n",
              "      <td>A-2953957</td>\n",
              "      <td>2</td>\n",
              "      <td>20:52:00</td>\n",
              "      <td>22:17:27</td>\n",
              "      <td>43.119443</td>\n",
              "      <td>-75.293198</td>\n",
              "      <td>43.120291</td>\n",
              "      <td>-75.293547</td>\n",
              "      <td>0.061</td>\n",
              "      <td>Incident on ORISKANY BLVD near HOUSE 131 Expec...</td>\n",
              "      <td>102.0</td>\n",
              "      <td>Oriskany Blvd</td>\n",
              "      <td>R</td>\n",
              "      <td>Whitesboro</td>\n",
              "      <td>Oneida</td>\n",
              "      <td>NY</td>\n",
              "      <td>13492-1322</td>\n",
              "      <td>US</td>\n",
              "      <td>US/Eastern</td>\n",
              "      <td>KRME</td>\n",
              "      <td>2020-12-03 20:53:00</td>\n",
              "      <td>32.0</td>\n",
              "      <td>32.0</td>\n",
              "      <td>75.0</td>\n",
              "      <td>29.47</td>\n",
              "      <td>10.0</td>\n",
              "      <td>CALM</td>\n",
              "      <td>0.0</td>\n",
              "      <td>0.0</td>\n",
              "      <td>Fair</td>\n",
              "      <td>False</td>\n",
              "      <td>False</td>\n",
              "      <td>False</td>\n",
              "      <td>False</td>\n",
              "      <td>False</td>\n",
              "      <td>False</td>\n",
              "      <td>False</td>\n",
              "      <td>False</td>\n",
              "      <td>False</td>\n",
              "      <td>False</td>\n",
              "      <td>False</td>\n",
              "      <td>False</td>\n",
              "      <td>False</td>\n",
              "      <td>Night</td>\n",
              "      <td>Night</td>\n",
              "      <td>Night</td>\n",
              "      <td>Night</td>\n",
              "      <td>2020-12-03</td>\n",
              "      <td>2020-12-03</td>\n",
              "      <td>20</td>\n",
              "      <td>22</td>\n",
              "    </tr>\n",
              "    <tr>\n",
              "      <th>1</th>\n",
              "      <td>237362</td>\n",
              "      <td>A-2953968</td>\n",
              "      <td>2</td>\n",
              "      <td>23:19:55</td>\n",
              "      <td>23:41:46</td>\n",
              "      <td>40.834883</td>\n",
              "      <td>-73.866244</td>\n",
              "      <td>40.833773</td>\n",
              "      <td>-73.863254</td>\n",
              "      <td>0.174</td>\n",
              "      <td>Queuing traffic in White Plains Rd exit [5A] d...</td>\n",
              "      <td>NaN</td>\n",
              "      <td>Cross Bronx Expy E</td>\n",
              "      <td>R</td>\n",
              "      <td>Bronx</td>\n",
              "      <td>Bronx</td>\n",
              "      <td>NY</td>\n",
              "      <td>10460</td>\n",
              "      <td>US</td>\n",
              "      <td>US/Eastern</td>\n",
              "      <td>KLGA</td>\n",
              "      <td>2020-09-25 22:51:00</td>\n",
              "      <td>70.0</td>\n",
              "      <td>70.0</td>\n",
              "      <td>76.0</td>\n",
              "      <td>30.08</td>\n",
              "      <td>10.0</td>\n",
              "      <td>SSW</td>\n",
              "      <td>7.0</td>\n",
              "      <td>0.0</td>\n",
              "      <td>Mostly Cloudy</td>\n",
              "      <td>False</td>\n",
              "      <td>False</td>\n",
              "      <td>True</td>\n",
              "      <td>False</td>\n",
              "      <td>True</td>\n",
              "      <td>False</td>\n",
              "      <td>False</td>\n",
              "      <td>False</td>\n",
              "      <td>False</td>\n",
              "      <td>False</td>\n",
              "      <td>False</td>\n",
              "      <td>False</td>\n",
              "      <td>False</td>\n",
              "      <td>Night</td>\n",
              "      <td>Night</td>\n",
              "      <td>Night</td>\n",
              "      <td>Night</td>\n",
              "      <td>2020-09-25</td>\n",
              "      <td>2020-09-25</td>\n",
              "      <td>23</td>\n",
              "      <td>23</td>\n",
              "    </tr>\n",
              "  </tbody>\n",
              "</table>\n",
              "</div>"
            ],
            "text/plain": [
              "   Unnamed: 0         ID  Severity  ...    End_Date Start_Hour  End_Hour\n",
              "0      237351  A-2953957         2  ...  2020-12-03         20        22\n",
              "1      237362  A-2953968         2  ...  2020-09-25         23        23\n",
              "\n",
              "[2 rows x 52 columns]"
            ]
          },
          "metadata": {},
          "execution_count": 32
        }
      ]
    },
    {
      "cell_type": "code",
      "metadata": {
        "colab": {
          "base_uri": "https://localhost:8080/",
          "height": 588
        },
        "id": "wDwiL2yPHQa6",
        "outputId": "6a454829-8125-44ab-c968-1eab984870d3"
      },
      "source": [
        "sns.countplot(df_accidents['Start_Month'])"
      ],
      "id": "wDwiL2yPHQa6",
      "execution_count": 35,
      "outputs": [
        {
          "output_type": "stream",
          "name": "stderr",
          "text": [
            "/usr/local/lib/python3.7/dist-packages/seaborn/_decorators.py:43: FutureWarning: Pass the following variable as a keyword arg: x. From version 0.12, the only valid positional argument will be `data`, and passing other arguments without an explicit keyword will result in an error or misinterpretation.\n",
            "  FutureWarning\n"
          ]
        },
        {
          "output_type": "execute_result",
          "data": {
            "text/plain": [
              "<matplotlib.axes._subplots.AxesSubplot at 0x7fe85856f790>"
            ]
          },
          "metadata": {},
          "execution_count": 35
        },
        {
          "output_type": "display_data",
          "data": {
            "image/png": "[encoded data removed]",
            "text/plain": [
              "<Figure size 842.4x595.44 with 1 Axes>"
            ]
          },
          "metadata": {}
        }
      ]
    },
    {
      "cell_type": "code",
      "metadata": {
        "colab": {
          "base_uri": "https://localhost:8080/",
          "height": 588
        },
        "id": "ddzkf6aeZhXA",
        "outputId": "0cc5a3b1-a24f-4fd3-bfa6-e4efa903fadd"
      },
      "source": [
        "sns.countplot(df_accidents['Start_Hour'])"
      ],
      "id": "ddzkf6aeZhXA",
      "execution_count": 36,
      "outputs": [
        {
          "output_type": "stream",
          "name": "stderr",
          "text": [
            "/usr/local/lib/python3.7/dist-packages/seaborn/_decorators.py:43: FutureWarning: Pass the following variable as a keyword arg: x. From version 0.12, the only valid positional argument will be `data`, and passing other arguments without an explicit keyword will result in an error or misinterpretation.\n",
            "  FutureWarning\n"
          ]
        },
        {
          "output_type": "execute_result",
          "data": {
            "text/plain": [
              "<matplotlib.axes._subplots.AxesSubplot at 0x7fe858e79390>"
            ]
          },
          "metadata": {},
          "execution_count": 36
        },
        {
          "output_type": "display_data",
          "data": {
            "image/png": "[encoded data removed]",
            "text/plain": [
              "<Figure size 842.4x595.44 with 1 Axes>"
            ]
          },
          "metadata": {}
        }
      ]
    }
  ]
}